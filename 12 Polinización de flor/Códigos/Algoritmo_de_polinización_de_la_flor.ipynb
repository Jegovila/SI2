{
  "nbformat": 4,
  "nbformat_minor": 0,
  "metadata": {
    "colab": {
      "provenance": [],
      "authorship_tag": "ABX9TyMYJRjHzT4R3Ms9RIWdSSeT",
      "include_colab_link": true
    },
    "kernelspec": {
      "name": "python3",
      "display_name": "Python 3"
    },
    "language_info": {
      "name": "python"
    }
  },
  "cells": [
    {
      "cell_type": "markdown",
      "metadata": {
        "id": "view-in-github",
        "colab_type": "text"
      },
      "source": [
        "<a href=\"https://colab.research.google.com/github/Jegovila/SSPIA1/blob/main/12%20Polinizaci%C3%B3n%20de%20flor/C%C3%B3digos/Algoritmo_de_polinizaci%C3%B3n_de_la_flor.ipynb\" target=\"_parent\"><img src=\"https://colab.research.google.com/assets/colab-badge.svg\" alt=\"Open In Colab\"/></a>"
      ]
    },
    {
      "cell_type": "code",
      "execution_count": null,
      "metadata": {
        "id": "395q4lA5bacP"
      },
      "outputs": [],
      "source": [
        "!wget -nc 'https://raw.githubusercontent.com/Jegovila/SSPIA1/main/12%20Polinizaci%C3%B3n%20de%20flor/C%C3%B3digos/Plot_Contour.py'\n",
        "!wget -nc 'https://raw.githubusercontent.com/Jegovila/SSPIA1/main/12%20Polinizaci%C3%B3n%20de%20flor/C%C3%B3digos/Plot_Surf.py'\n",
        "\n",
        "import matplotlib.pyplot as plt\n",
        "import numpy as np\n",
        "from Plot_Surf import *\n",
        "from Plot_Contour import *\n",
        "from IPython import display\n",
        "import math"
      ]
    },
    {
      "cell_type": "markdown",
      "source": [
        "Función objetivo"
      ],
      "metadata": {
        "id": "6cmDaJGObnTW"
      }
    },
    {
      "cell_type": "code",
      "source": [
        "f = lambda x, y: (x-2)**2 + (y-2)**2\n",
        "#f = lambda x, y: 10*2 + x**2 + y**2 - 10*np.cos(2*np.pi*x) - 10*np.cos(2*np.pi*y)\n"
      ],
      "metadata": {
        "id": "qZTFttz3bo29"
      },
      "execution_count": 2,
      "outputs": []
    },
    {
      "cell_type": "markdown",
      "source": [
        "Parámetros"
      ],
      "metadata": {
        "id": "vOVoibzjbscF"
      }
    },
    {
      "cell_type": "code",
      "source": [
        "xl = np.array([-5, -5])\n",
        "xu = np.array([5, 5])\n",
        "\n",
        "D = 2\n",
        "N = 30\n",
        "G = 100\n",
        "\n",
        "p = 0.8\n",
        "l = 1.5\n",
        "sigma2 = (((math.gamma(1+l))/(l*math.gamma((1+l)/2)))*((np.sin((np.pi*l)/2))/(2 ** ((l-1)/2)))) ** (1/l)\n",
        "\n",
        "x = np.zeros((D, N))\n",
        "fitness = np.zeros(N)"
      ],
      "metadata": {
        "id": "_xZ5U5DybvSG"
      },
      "execution_count": 3,
      "outputs": []
    },
    {
      "cell_type": "markdown",
      "source": [
        "# FPA"
      ],
      "metadata": {
        "id": "5WmKrTZzbyLt"
      }
    },
    {
      "cell_type": "code",
      "source": [
        "for i in range(N):\n",
        "    x[:, i] = xl + (xu - xl) * np.random.rand(D)\n",
        "    fitness[i] = f(x[0, i], x[1, i])\n",
        "\n",
        "for t in range(G):\n",
        "    display.display(plt.gcf())\n",
        "    display.clear_output(wait=True)\n",
        "    plot_contour(f, x, xl, xu)\n",
        "\n",
        "    igb = np.argmin(fitness)\n",
        "\n",
        "    for i in range(N):\n",
        "        if np.random.rand() < p:\n",
        "            u = np.random.normal(0, sigma2, D)\n",
        "            v = np.random.normal(0, 1, D)\n",
        "            L = u / (np.abs(v) ** (1 / l))\n",
        "\n",
        "            y = x[:, i] + L * (x[:, igb] - x[:, i])\n",
        "        else:\n",
        "            j = i\n",
        "            while j == i:\n",
        "                j = np.random.randint(N)\n",
        "\n",
        "            k = j\n",
        "            while k == j and k != i:\n",
        "                k = np.random.randint(N)\n",
        "\n",
        "            y = x[:, i] + np.random.rand() * (x[:, j] - x[:, k])\n",
        "\n",
        "        fy = f(y[0], y[1])\n",
        "\n",
        "        if fy < fitness[i]:\n",
        "            x[:, i] = y\n",
        "            fitness[i] = fy\n",
        "\n",
        "\n",
        "igb = np.argmin(fitness)\n",
        "\n",
        "print(\"Mínimo global en x=\", x[0, igb], \" y=\", x[1, igb], \" f(x,y)=\", f(x[0, igb], x[1, igb]))\n",
        "plot_surf(f, x, xl, xu, igb)"
      ],
      "metadata": {
        "id": "Ke6oKbJrb0Y8"
      },
      "execution_count": null,
      "outputs": []
    }
  ]
}
