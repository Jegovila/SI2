{
  "nbformat": 4,
  "nbformat_minor": 0,
  "metadata": {
    "colab": {
      "provenance": [],
      "authorship_tag": "ABX9TyM5TP22mn7A57Ctlf7ZObtA",
      "include_colab_link": true
    },
    "kernelspec": {
      "name": "python3",
      "display_name": "Python 3"
    },
    "language_info": {
      "name": "python"
    }
  },
  "cells": [
    {
      "cell_type": "markdown",
      "metadata": {
        "id": "view-in-github",
        "colab_type": "text"
      },
      "source": [
        "<a href=\"https://colab.research.google.com/github/Jegovila/SI2/blob/main/14%20Cinem%C3%A1tica%20Inversa/Cinem%C3%A1tica_inversa_IK.ipynb\" target=\"_parent\"><img src=\"https://colab.research.google.com/assets/colab-badge.svg\" alt=\"Open In Colab\"/></a>"
      ]
    },
    {
      "cell_type": "code",
      "execution_count": null,
      "metadata": {
        "colab": {
          "base_uri": "https://localhost:8080/"
        },
        "id": "MApicKbGunv0",
        "outputId": "06ae2c50-56c8-4049-84ba-3d21176fc59f"
      },
      "outputs": [
        {
          "output_type": "stream",
          "name": "stdout",
          "text": [
            "File ‘Dibujar_Manipulador.py’ already there; not retrieving.\n",
            "\n"
          ]
        }
      ],
      "source": [
        "!wget -nc 'https://raw.githubusercontent.com/Jegovila/SI2/refs/heads/main/14%20Cinem%C3%A1tica%20Inversa/Dibujar_Manipulador.py'\n",
        "\n",
        "import numpy as np\n",
        "import matplotlib.pyplot as plt\n",
        "from Dibujar_Manipulador import dibujar_manipulador\n",
        "from IPython import display"
      ]
    },
    {
      "cell_type": "markdown",
      "source": [
        "Función de penalización"
      ],
      "metadata": {
        "id": "4eD53qs6u0cH"
      }
    },
    {
      "cell_type": "code",
      "source": [
        "def Penalty(x, xl, xu):\n",
        "    D = x.size\n",
        "    z = 0\n",
        "\n",
        "    # Aqui agrega tu función de penalización\n",
        "\n",
        "\n",
        "    #----------------------------------\n",
        "\n",
        "    return z"
      ],
      "metadata": {
        "id": "28I-lFu2u4AH"
      },
      "execution_count": null,
      "outputs": []
    },
    {
      "cell_type": "markdown",
      "source": [
        "Función objetivo"
      ],
      "metadata": {
        "id": "9cPF6EXfvB4X"
      }
    },
    {
      "cell_type": "code",
      "source": [
        "f = lambda q:                   # <----------------- Completar\n",
        "fp = lambda x, xl, xu:          # <----------------- Completar"
      ],
      "metadata": {
        "id": "wd4Eg3qavDzo"
      },
      "execution_count": null,
      "outputs": []
    },
    {
      "cell_type": "markdown",
      "source": [
        "Parámetros"
      ],
      "metadata": {
        "id": "a-UgP8bXu7rv"
      }
    },
    {
      "cell_type": "code",
      "source": [
        "animacion = 1\n",
        "pd = [0.4, 0.4]\n",
        "a_1 = 0.35\n",
        "a_2 = 0.35\n",
        "a_3 = 0.25\n",
        "\n",
        "beta = 1000\n",
        "xl =                    # <----------------- Completar\n",
        "xu =                    # <----------------- Completar\n",
        "\n",
        "\n",
        "G =                     # <----------------- Completar\n",
        "N =                     # <----------------- Completar\n",
        "D = 3\n",
        "\n",
        "F =                     # <----------------- Completar\n",
        "CR =                    # <----------------- Completar"
      ],
      "metadata": {
        "id": "H60_0K67u9Wn"
      },
      "execution_count": null,
      "outputs": []
    },
    {
      "cell_type": "markdown",
      "source": [
        "# DE"
      ],
      "metadata": {
        "id": "h_WATl7yvQtf"
      }
    },
    {
      "cell_type": "code",
      "source": [
        "p = lambda theta_1, theta_2, theta_3: np.array([a_2*np.cos(theta_1 + theta_2) + a_1*np.cos(theta_1) + a_3*np.cos(theta_1 + theta_2 + theta_3),\n",
        "                                                a_2*np.sin(theta_1 + theta_2) + a_1*np.sin(theta_1) + a_3*np.sin(theta_1 + theta_2 + theta_3)])\n",
        "\n",
        "x = np.zeros((D, N))\n",
        "fitness = np.zeros(N)\n",
        "\n",
        "for i in range(N):\n",
        "    x[:, i] = xl + (xu - xl) * np.random.rand(D)\n",
        "    fitness[i] = f(x[:, i])\n",
        "\n",
        "fx_plot = np.zeros(G)\n",
        "\n",
        "for n in range(G):\n",
        "    if animacion:\n",
        "        for i in range(0,N,50):\n",
        "          display.display(plt.gcf())\n",
        "          display.clear_output(wait=True)\n",
        "          plt.scatter(pd[0], pd[1], marker='o', s=100)\n",
        "          dibujar_manipulador(x[:, i])\n",
        "\n",
        "    for i in range(N):\n",
        "        # Mutación\n",
        "\n",
        "\n",
        "        # Recombinación\n",
        "\n",
        "\n",
        "        # Selección\n",
        "\n",
        "\n",
        "        if fitness_u < fitness[i]:\n",
        "            x[:, i] = u.copy()\n",
        "            fitness[i] = fitness_u\n",
        "\n",
        "    fx_plot[n] = np.min(fitness)\n",
        "\n",
        "igb = np.argmin(fitness)\n",
        "\n",
        "q = x[:, igb]\n",
        "\n",
        "theta_1 = q[0]\n",
        "theta_2 = q[1]\n",
        "theta_3 = q[2]\n",
        "\n",
        "p = np.array([a_2*np.cos(theta_1 + theta_2) + a_1*np.cos(theta_1) + a_3*np.cos(theta_1 + theta_2 + theta_3),\n",
        "                a_2*np.sin(theta_1 + theta_2) + a_1*np.sin(theta_1) + a_3*np.sin(theta_1 + theta_2 + theta_3)])\n",
        "\n",
        "display.display(plt.gcf())\n",
        "display.clear_output(wait=True)\n",
        "dibujar_manipulador(q)\n",
        "\n",
        "plt.show()\n",
        "plt.plot(fx_plot)"
      ],
      "metadata": {
        "id": "uk_ZlTHGvSJH"
      },
      "execution_count": null,
      "outputs": []
    }
  ]
}