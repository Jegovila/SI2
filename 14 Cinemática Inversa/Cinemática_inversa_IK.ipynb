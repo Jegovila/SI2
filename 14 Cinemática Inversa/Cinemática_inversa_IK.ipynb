{
  "nbformat": 4,
  "nbformat_minor": 0,
  "metadata": {
    "colab": {
      "provenance": [],
      "authorship_tag": "ABX9TyOsFJn8z8AimGvBcXjBOBxh",
      "include_colab_link": true
    },
    "kernelspec": {
      "name": "python3",
      "display_name": "Python 3"
    },
    "language_info": {
      "name": "python"
    }
  },
  "cells": [
    {
      "cell_type": "markdown",
      "metadata": {
        "id": "view-in-github",
        "colab_type": "text"
      },
      "source": [
        "<a href=\"https://colab.research.google.com/github/Jegovila/SSPIA1/blob/main/14%20Proyectos/Cinem%C3%A1tica%20Inversa/Cinem%C3%A1tica_inversa_IK.ipynb\" target=\"_parent\"><img src=\"https://colab.research.google.com/assets/colab-badge.svg\" alt=\"Open In Colab\"/></a>"
      ]
    },
    {
      "cell_type": "code",
      "execution_count": null,
      "metadata": {
        "id": "V5vkK2EL2J0w"
      },
      "outputs": [],
      "source": [
        "!wget -nc 'https://raw.githubusercontent.com/Jegovila/SSPIA1/main/14%20Proyectos/Cinem%C3%A1tica%20Inversa/Dibujar_Manipulador.py'\n",
        "\n",
        "import numpy as np\n",
        "import matplotlib.pyplot as plt\n",
        "from Dibujar_Manipulador import dibujar_manipulador\n",
        "from IPython import display"
      ]
    },
    {
      "cell_type": "markdown",
      "source": [
        "Función de penalización"
      ],
      "metadata": {
        "id": "9fWqA3E22plE"
      }
    },
    {
      "cell_type": "code",
      "source": [
        "def Penalty(x, xl, xu):\n",
        "\n",
        "    #- Agregar la función de penalización-\n",
        "\n",
        "\n",
        "    #-------------------------------------\n",
        "\n",
        "    return z"
      ],
      "metadata": {
        "id": "SSvl3RIm2q2Z"
      },
      "execution_count": null,
      "outputs": []
    },
    {
      "cell_type": "markdown",
      "source": [
        "Función Objetivo\n",
        "\n",
        "No modificar la función fk. Esta regresa la posición $x$ y $y$ del elemento final del manipulador, dados los tres ángulos de los actuadores $\\theta_1$, $\\theta_2$, $\\theta_3$"
      ],
      "metadata": {
        "id": "TCz6lrom2tO2"
      }
    },
    {
      "cell_type": "code",
      "source": [
        "fk = lambda theta_1, theta_2, theta_3: np.array([a_2*np.cos(theta_1 + theta_2) + a_1*np.cos(theta_1) + a_3*np.cos(theta_1 + theta_2 + theta_3),\n",
        "                                                a_2*np.sin(theta_1 + theta_2) + a_1*np.sin(theta_1) + a_3*np.sin(theta_1 + theta_2 + theta_3)])\n",
        "\n",
        "\n",
        "f = lambda q:             # <--- función objetivo\n",
        "fp = lambda x, xl, xu:    # <--- Función objetivo con penalización"
      ],
      "metadata": {
        "id": "VM_qjSMP2vM0"
      },
      "execution_count": null,
      "outputs": []
    },
    {
      "cell_type": "markdown",
      "source": [
        "Parámetros"
      ],
      "metadata": {
        "id": "KJzhz31A2wZB"
      }
    },
    {
      "cell_type": "code",
      "source": [
        "animacion = 1\n",
        "pd = [0.4, 0.4]\n",
        "a_1 = 0.35\n",
        "a_2 = 0.35\n",
        "a_3 = 0.25\n",
        "\n",
        "beta = 1000                       # <-- Para la función de penalización\n",
        "xl = np.array([])                 # <-- Agregar límite inferior\n",
        "xu = np.array([])                 # <-- Agergar límite superior\n",
        "\n",
        "\n",
        "G = 20\n",
        "N = 50\n",
        "D =                               # <-- Agregar Dimensión del problema\n",
        "\n",
        "F = 0.6\n",
        "CR = 0.9"
      ],
      "metadata": {
        "id": "0Aki70bF2yyT"
      },
      "execution_count": null,
      "outputs": []
    },
    {
      "cell_type": "markdown",
      "source": [
        "Algoritmo\n",
        "\n",
        "El algoritmo de ayuda contempla DE, pero puedes utilizar cualquiera visto en clase."
      ],
      "metadata": {
        "id": "HFIg_Wrv20qS"
      }
    },
    {
      "cell_type": "code",
      "source": [
        "x = np.zeros((D, N))\n",
        "fitness = np.zeros(N)\n",
        "\n",
        "for i in range(N):\n",
        "    x[:, i] = xl + (xu - xl) * np.random.rand(D)\n",
        "    fitness[i] = f(x[:, i])\n",
        "\n",
        "fx_plot = np.zeros(G)\n",
        "\n",
        "for n in range(G):\n",
        "    if animacion:\n",
        "        for i in range(0,N,N):\n",
        "          display.display(plt.gcf())\n",
        "          display.clear_output(wait=True)\n",
        "          plt.scatter(pd[0], pd[1], marker='o', s=100)\n",
        "          dibujar_manipulador(x[:, np.argmin(fitness)])\n",
        "\n",
        "    for i in range(N):\n",
        "        # Mutación\n",
        "\n",
        "\n",
        "        # Recombinación\n",
        "\n",
        "\n",
        "        # Selección\n",
        "\n",
        "\n",
        "    fx_plot[n] = np.min(fitness)\n",
        "\n",
        "igb = np.argmin(fitness)\n",
        "\n",
        "q = x[:, igb]\n",
        "\n",
        "theta_1 = q[0]\n",
        "theta_2 = q[1]\n",
        "theta_3 = q[2]\n",
        "\n",
        "p = fk(theta_1, theta_2, theta_3)\n",
        "\n",
        "display.display(plt.figure())\n",
        "plt.scatter(pd[0], pd[1], marker='o', s=100)\n",
        "dibujar_manipulador(q)\n",
        "plt.show()\n",
        "\n",
        "print(\"Mínimo en q: \", q)\n",
        "print(\"Posición deseada: \", pd)\n",
        "print(\"Posición final alcanzada: \", p)\n",
        "plt.plot(fx_plot)"
      ],
      "metadata": {
        "id": "TCw5ZrO921p7"
      },
      "execution_count": null,
      "outputs": []
    }
  ]
}