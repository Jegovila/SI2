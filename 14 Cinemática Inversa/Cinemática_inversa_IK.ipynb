{
  "nbformat": 4,
  "nbformat_minor": 0,
  "metadata": {
    "colab": {
      "provenance": [],
      "authorship_tag": "ABX9TyOGC0G3lY9hnA8VzDZ5CYIJ",
      "include_colab_link": true
    },
    "kernelspec": {
      "name": "python3",
      "display_name": "Python 3"
    },
    "language_info": {
      "name": "python"
    }
  },
  "cells": [
    {
      "cell_type": "markdown",
      "metadata": {
        "id": "view-in-github",
        "colab_type": "text"
      },
      "source": [
        "<a href=\"https://colab.research.google.com/github/Jegovila/SI2/blob/main/14%20Cinemática%20Inversa/Cinemática_inversa_IK.ipynb\" target=\"_parent\"><img src=\"https://colab.research.google.com/assets/colab-badge.svg\" alt=\"Open In Colab\"/></a>"
      ]
    },
    {
      "cell_type": "code",
      "execution_count": 1,
      "metadata": {
        "colab": {
          "base_uri": "https://localhost:8080/"
        },
        "id": "MApicKbGunv0",
        "outputId": "06ae2c50-56c8-4049-84ba-3d21176fc59f"
      },
      "outputs": [
        {
          "output_type": "stream",
          "name": "stdout",
          "text": [
            "File ‘Dibujar_Manipulador.py’ already there; not retrieving.\n",
            "\n"
          ]
        }
      ],
      "source": [
        "!wget -nc 'https://raw.githubusercontent.com/Jegovila/Computo-Evolutivo/main/14%20Proyectos/Cinem%C3%A1tica%20Inversa/C%C3%B3digos/IK/Dibujar_Manipulador.py'\n",
        "\n",
        "import numpy as np\n",
        "import matplotlib.pyplot as plt\n",
        "from Dibujar_Manipulador import dibujar_manipulador\n",
        "from IPython import display"
      ]
    },
    {
      "cell_type": "markdown",
      "source": [
        "Función de penalización"
      ],
      "metadata": {
        "id": "4eD53qs6u0cH"
      }
    },
    {
      "cell_type": "code",
      "source": [
        "def Penalty(x, xl, xu):\n",
        "    D = x.size\n",
        "    z = 0\n",
        "\n",
        "    for j in range(D):\n",
        "        if x[j] < xl[j]:\n",
        "            z = z + (x[j]-xl[j]) ** 2\n",
        "        elif x[j] > xu[j]:\n",
        "            z = z + (x[j] - xu[j]) ** 2\n",
        "        else:\n",
        "            z = z + 0\n",
        "\n",
        "    return z"
      ],
      "metadata": {
        "id": "28I-lFu2u4AH"
      },
      "execution_count": 2,
      "outputs": []
    },
    {
      "cell_type": "markdown",
      "source": [
        "Función objetivo"
      ],
      "metadata": {
        "id": "9cPF6EXfvB4X"
      }
    },
    {
      "cell_type": "code",
      "source": [
        "f = lambda q: (1/4) * np.sum((pd-p(q[0], q[1], q[2])) ** 2)\n",
        "fp = lambda x, xl, xu: f(x) + beta * Penalty(x, xl, xu)"
      ],
      "metadata": {
        "id": "wd4Eg3qavDzo"
      },
      "execution_count": 34,
      "outputs": []
    },
    {
      "cell_type": "markdown",
      "source": [
        "Parámetros"
      ],
      "metadata": {
        "id": "a-UgP8bXu7rv"
      }
    },
    {
      "cell_type": "code",
      "source": [
        "animacion = 0\n",
        "pd = [0.4, 0.4]\n",
        "a_1 = 0.35\n",
        "a_2 = 0.35\n",
        "a_3 = 0.25\n",
        "\n",
        "beta = 1000\n",
        "xl = np.array([-160, -130, -100]) * (np.pi/180)\n",
        "xu = np.array([160, 130, 100]) * (np.pi/180)\n",
        "\n",
        "\n",
        "G = 150\n",
        "N = 50\n",
        "D = 3\n",
        "\n",
        "F = 0.6\n",
        "CR = 0.9"
      ],
      "metadata": {
        "id": "H60_0K67u9Wn"
      },
      "execution_count": 45,
      "outputs": []
    },
    {
      "cell_type": "markdown",
      "source": [
        "# DE"
      ],
      "metadata": {
        "id": "h_WATl7yvQtf"
      }
    },
    {
      "cell_type": "code",
      "source": [
        "p = lambda theta_1, theta_2, theta_3: np.array([a_2*np.cos(theta_1 + theta_2) + a_1*np.cos(theta_1) + a_3*np.cos(theta_1 + theta_2 + theta_3),\n",
        "                                                a_2*np.sin(theta_1 + theta_2) + a_1*np.sin(theta_1) + a_3*np.sin(theta_1 + theta_2 + theta_3)])\n",
        "\n",
        "x = np.zeros((D, N))\n",
        "fitness = np.zeros(N)\n",
        "\n",
        "for i in range(N):\n",
        "    x[:, i] = xl + (xu - xl) * np.random.rand(D)\n",
        "    fitness[i] = f(x[:, i])\n",
        "\n",
        "fx_plot = np.zeros(G)\n",
        "\n",
        "for n in range(G):\n",
        "    if animacion:\n",
        "        for i in range(0,N,50):\n",
        "          display.display(plt.gcf())\n",
        "          display.clear_output(wait=True)\n",
        "          plt.scatter(pd[0], pd[1], marker='o', s=100)\n",
        "          dibujar_manipulador(x[:, i])\n",
        "\n",
        "    for i in range(N):\n",
        "        # Mutación\n",
        "        r1 = i\n",
        "        while r1 == i:\n",
        "            r1 = np.random.randint(N)\n",
        "\n",
        "        r2 = r1\n",
        "        while r2 == r1 or r2 == i:\n",
        "            r2 = np.random.randint(N)\n",
        "\n",
        "        r3 = r2\n",
        "        while r3 == r2 or r3 == r1 or r3 == i:\n",
        "            r3 = np.random.randint(N)\n",
        "\n",
        "        v = x[:, r1] + F * (x[:, r2] - x[:, r3])\n",
        "\n",
        "        # Recombinación\n",
        "        u = np.zeros(D)\n",
        "\n",
        "        for j in range(D):\n",
        "            r = np.random.rand()\n",
        "\n",
        "            if r <= CR:\n",
        "                u[j] = v[j]\n",
        "            else:\n",
        "                u[j] = x[j, i]\n",
        "\n",
        "        # Selección\n",
        "        fitness_u = fp(u, xl, xu)\n",
        "\n",
        "        if fitness_u < fitness[i]:\n",
        "            x[:, i] = u.copy()\n",
        "            fitness[i] = fitness_u\n",
        "\n",
        "    fx_plot[n] = np.min(fitness)\n",
        "\n",
        "igb = np.argmin(fitness)\n",
        "\n",
        "q = x[:, igb]\n",
        "\n",
        "theta_1 = q[0]\n",
        "theta_2 = q[1]\n",
        "theta_3 = q[2]\n",
        "\n",
        "p = np.array([a_2*np.cos(theta_1 + theta_2) + a_1*np.cos(theta_1) + a_3*np.cos(theta_1 + theta_2 + theta_3),\n",
        "                a_2*np.sin(theta_1 + theta_2) + a_1*np.sin(theta_1) + a_3*np.sin(theta_1 + theta_2 + theta_3)])\n",
        "\n",
        "display.display(plt.gcf())\n",
        "display.clear_output(wait=True)\n",
        "dibujar_manipulador(q)\n",
        "\n",
        "plt.show()\n",
        "plt.plot(fx_plot)"
      ],
      "metadata": {
        "id": "uk_ZlTHGvSJH"
      },
      "execution_count": null,
      "outputs": []
    }
  ]
}
