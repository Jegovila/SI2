{
  "nbformat": 4,
  "nbformat_minor": 0,
  "metadata": {
    "colab": {
      "provenance": [],
      "authorship_tag": "ABX9TyP7iMzDpLnviGD3RMnw4iU3",
      "include_colab_link": true
    },
    "kernelspec": {
      "name": "python3",
      "display_name": "Python 3"
    },
    "language_info": {
      "name": "python"
    }
  },
  "cells": [
    {
      "cell_type": "markdown",
      "metadata": {
        "id": "view-in-github",
        "colab_type": "text"
      },
      "source": [
        "<a href=\"https://colab.research.google.com/github/Jegovila/SI2/blob/main/14%20Cinemática%20Inversa/Cinemática_directa_FK.ipynb\" target=\"_parent\"><img src=\"https://colab.research.google.com/assets/colab-badge.svg\" alt=\"Open In Colab\"/></a>"
      ]
    },
    {
      "cell_type": "code",
      "execution_count": null,
      "metadata": {
        "id": "SwHqZDpRy-uj"
      },
      "outputs": [],
      "source": [
        "!wget -nc 'https://raw.githubusercontent.com/Jegovila/SSPIA1/main/14%20Proyectos/Cinem%C3%A1tica%20Inversa/Dibujar_Manipulador.py'\n",
        "\n",
        "import numpy as np\n",
        "import matplotlib.pyplot as plt\n",
        "from Dibujar_Manipulador import dibujar_manipulador"
      ]
    },
    {
      "cell_type": "markdown",
      "source": [
        "Longitud eslabones"
      ],
      "metadata": {
        "id": "3qIhmsvHzzb1"
      }
    },
    {
      "cell_type": "code",
      "source": [
        "a_1 = 0.35\n",
        "a_2 = 0.35\n",
        "a_3 = 0.25"
      ],
      "metadata": {
        "id": "ZyFNHCa1z1JS"
      },
      "execution_count": 2,
      "outputs": []
    },
    {
      "cell_type": "markdown",
      "source": [
        "Vector de coordenadas generalizadas"
      ],
      "metadata": {
        "id": "ur4qujBiz3YY"
      }
    },
    {
      "cell_type": "code",
      "source": [
        "q = [np.pi/4+0.2, -np.pi/2, np.pi-0.5]\n",
        "\n",
        "theta_1 = q[0]\n",
        "theta_2 = q[1]\n",
        "theta_3 = q[2]"
      ],
      "metadata": {
        "id": "UtbVDD-Gz5-5"
      },
      "execution_count": 9,
      "outputs": []
    },
    {
      "cell_type": "markdown",
      "source": [
        "Cinemática directa"
      ],
      "metadata": {
        "id": "qdsQD64Pz7JU"
      }
    },
    {
      "cell_type": "code",
      "source": [
        "p = np.array([a_2*np.cos(theta_1 + theta_2) + a_1*np.cos(theta_1) + a_3*np.cos(theta_1 + theta_2 + theta_3),\n",
        "                a_2*np.sin(theta_1 + theta_2) + a_1*np.sin(theta_1) + a_3*np.sin(theta_1 + theta_2 + theta_3)])"
      ],
      "metadata": {
        "id": "-ZPHDrQKz8Rv"
      },
      "execution_count": 4,
      "outputs": []
    },
    {
      "cell_type": "markdown",
      "source": [
        "Posición deseada"
      ],
      "metadata": {
        "id": "CtlVbslJz_kN"
      }
    },
    {
      "cell_type": "code",
      "source": [
        "pd = [0.4, 0.4]"
      ],
      "metadata": {
        "id": "CF3BKyR90A3w"
      },
      "execution_count": 5,
      "outputs": []
    },
    {
      "cell_type": "markdown",
      "source": [
        "Resultados"
      ],
      "metadata": {
        "id": "uHPBX5s50C66"
      }
    },
    {
      "cell_type": "code",
      "source": [
        "dibujar_manipulador(q)\n",
        "plt.scatter(pd[0], pd[1], marker='o', s=100)\n",
        "print(p)"
      ],
      "metadata": {
        "id": "bnW0BYJy0D6x"
      },
      "execution_count": null,
      "outputs": []
    }
  ]
}
