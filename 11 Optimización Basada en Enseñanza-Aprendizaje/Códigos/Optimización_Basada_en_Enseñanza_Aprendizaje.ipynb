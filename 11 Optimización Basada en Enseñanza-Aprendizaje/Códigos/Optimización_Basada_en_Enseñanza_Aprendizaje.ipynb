{
  "nbformat": 4,
  "nbformat_minor": 0,
  "metadata": {
    "colab": {
      "provenance": [],
      "include_colab_link": true
    },
    "kernelspec": {
      "name": "python3",
      "display_name": "Python 3"
    },
    "language_info": {
      "name": "python"
    }
  },
  "cells": [
    {
      "cell_type": "markdown",
      "metadata": {
        "id": "view-in-github",
        "colab_type": "text"
      },
      "source": [
        "<a href=\"https://colab.research.google.com/github/Jegovila/SSPIA1/blob/main/11%20Optimizaci%C3%B3n%20Basada%20en%20Ense%C3%B1anza-Aprendizaje/C%C3%B3digos/Optimizaci%C3%B3n_Basada_en_Ense%C3%B1anza_Aprendizaje.ipynb\" target=\"_parent\"><img src=\"https://colab.research.google.com/assets/colab-badge.svg\" alt=\"Open In Colab\"/></a>"
      ]
    },
    {
      "cell_type": "code",
      "execution_count": null,
      "metadata": {
        "id": "LAXp8zpEZ5ue"
      },
      "outputs": [],
      "source": [
        "!wget -nc 'https://raw.githubusercontent.com/Jegovila/SSPIA1/main/11%20Optimizaci%C3%B3n%20Basada%20en%20Ense%C3%B1anza-Aprendizaje/C%C3%B3digos/Plot_Contour.py'\n",
        "!wget -nc 'https://raw.githubusercontent.com/Jegovila/SSPIA1/main/11%20Optimizaci%C3%B3n%20Basada%20en%20Ense%C3%B1anza-Aprendizaje/C%C3%B3digos/Plot_Surf.py'\n",
        "\n",
        "import matplotlib.pyplot as plt\n",
        "import numpy as np\n",
        "from Plot_Surf import *\n",
        "from Plot_Contour import *\n",
        "from IPython import display"
      ]
    },
    {
      "cell_type": "markdown",
      "source": [
        "Funciones objetivo"
      ],
      "metadata": {
        "id": "VHZir67saJ-d"
      }
    },
    {
      "cell_type": "code",
      "source": [
        "f = lambda x, y: (x-2)**2 + (y-2)**2\n",
        "#f = lambda x, y: 10*2 + x**2 + y**2 - 10*np.cos(2*np.pi*x) - 10*np.cos(2*np.pi*y)"
      ],
      "metadata": {
        "id": "VZKlDf8FaLE8"
      },
      "execution_count": 2,
      "outputs": []
    },
    {
      "cell_type": "markdown",
      "source": [
        "Parámetros"
      ],
      "metadata": {
        "id": "vhjqSe3NaMz0"
      }
    },
    {
      "cell_type": "code",
      "source": [
        "xl = np.array([-5, -5])\n",
        "xu = np.array([5, 5])\n",
        "\n",
        "D = 2\n",
        "N = 30\n",
        "G = 31\n",
        "\n",
        "x = np.zeros((D, N))\n",
        "fitness = np.zeros(N)"
      ],
      "metadata": {
        "id": "xKxIG2f8aNqs"
      },
      "execution_count": 25,
      "outputs": []
    },
    {
      "cell_type": "markdown",
      "source": [
        "# TLBO"
      ],
      "metadata": {
        "id": "xH8E-0m9aQuE"
      }
    },
    {
      "cell_type": "code",
      "source": [
        "for i in range(N):\n",
        "    x[:, i] = xl + (xu - xl) * np.random.rand(D)\n",
        "    fitness[i] = f(x[0, i], x[1, i])\n",
        "\n",
        "fx_plot = np.zeros(G)\n",
        "\n",
        "for g in range(G):\n",
        "    display.display(plt.gcf())\n",
        "    display.clear_output(wait=True)\n",
        "    plot_contour(f, x, xl, xu)\n",
        "\n",
        "    for i in range(N):\n",
        "        # Teacher phase\n",
        "        t = np.argmin(fitness)\n",
        "        Tf = np.random.randint(2)\n",
        "        c = np.zeros(D)\n",
        "\n",
        "        for j in range(D):\n",
        "            x_mean = np.mean(x[j, :])\n",
        "            r = np.random.rand()\n",
        "\n",
        "            c[j] = x[j, i] + r * (x[j, t] - Tf * x_mean)\n",
        "\n",
        "        fc = f(c[0], c[1])\n",
        "\n",
        "        if fc < fitness[i]:\n",
        "            x[:, i] = c\n",
        "            fitness[i] = fc\n",
        "\n",
        "        # Learner phase\n",
        "        k = i\n",
        "        while k == i:\n",
        "            k = np.random.randint(N)\n",
        "\n",
        "        c = np.zeros(D)\n",
        "\n",
        "        if fitness[i] < fitness[k]:\n",
        "            for j in range(D):\n",
        "                r = np.random.rand()\n",
        "                c[j] = x[j, i] + r * (x[j, i] - x[j, k])\n",
        "        else:\n",
        "            for j in range(D):\n",
        "                r = np.random.rand()\n",
        "                c[j] = x[j, i] + r * (x[j, k] - x[j, i])\n",
        "\n",
        "        fc = f(c[0], c[1])\n",
        "\n",
        "        if fc < fitness[i]:\n",
        "            x[:, i] = c\n",
        "            fitness[i] = fc\n",
        "\n",
        "    fx_plot[g] = np.min(fitness)\n",
        "\n",
        "igb = np.argmin(fitness)\n",
        "\n",
        "print(\"Mínimo global en x=\", x[0, igb], \" y=\", x[1, igb], \" f(x,y)=\", f(x[0, igb], x[1, igb]))\n",
        "plot_surf(f, x, xl, xu, igb)\n",
        "plt.plot(fx_plot)"
      ],
      "metadata": {
        "id": "2Tf3pDMzaUeU"
      },
      "execution_count": null,
      "outputs": []
    }
  ]
}