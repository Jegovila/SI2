{
  "nbformat": 4,
  "nbformat_minor": 0,
  "metadata": {
    "colab": {
      "provenance": [],
      "include_colab_link": true
    },
    "kernelspec": {
      "name": "python3",
      "display_name": "Python 3"
    },
    "language_info": {
      "name": "python"
    }
  },
  "cells": [
    {
      "cell_type": "markdown",
      "metadata": {
        "id": "view-in-github",
        "colab_type": "text"
      },
      "source": [
        "<a href=\"https://colab.research.google.com/github/Jegovila/SSPIA1/blob/main/6%20Optimizaci%C3%B3n%20por%20enjambre%20de%20part%C3%ADculas/C%C3%B3digos/PSO.ipynb\" target=\"_parent\"><img src=\"https://colab.research.google.com/assets/colab-badge.svg\" alt=\"Open In Colab\"/></a>"
      ]
    },
    {
      "cell_type": "code",
      "execution_count": null,
      "metadata": {
        "id": "HVHksfW_hrRs"
      },
      "outputs": [],
      "source": [
        "!wget -nc 'https://raw.githubusercontent.com/Jegovila/SSPIA1/main/6%20Optimizaci%C3%B3n%20por%20enjambre%20de%20part%C3%ADculas/C%C3%B3digos/Plot_Contour.py'\n",
        "!wget -nc 'https://raw.githubusercontent.com/Jegovila/SSPIA1/main/6%20Optimizaci%C3%B3n%20por%20enjambre%20de%20part%C3%ADculas/C%C3%B3digos/Plot_Surf.py'\n",
        "\n",
        "import matplotlib.pyplot as plt\n",
        "import numpy as np\n",
        "from Plot_Surf import *\n",
        "from Plot_Contour import *\n",
        "from IPython import display"
      ]
    },
    {
      "cell_type": "markdown",
      "source": [
        "Función objetivo"
      ],
      "metadata": {
        "id": "qAgeQm48h-hX"
      }
    },
    {
      "cell_type": "code",
      "source": [
        "f = lambda x, y: (x-2)**2 + (y-2)**2\n",
        "#f = lambda x, y: -20 * np.exp(-0.2 * np.sqrt(0.5*(x**2 + y**2))) - np.exp(0.5*(np.cos(2*np.pi*x)+np.cos(2*np.pi*y))) + 20 + np.exp(1)\n",
        "#f = lambda x, y: -((1+np.cos(12*np.sqrt(x**2+y**2))) / (0.5*(x**2+y**2)+2))\n",
        "#f = lambda x, y: 10*2 + x**2 + y**2 - 10*np.cos(2*np.pi*x) - 10*np.cos(2*np.pi*y)\n",
        "#f = lambda x, y: ((x**2/4000)+(y**2/4000))-(np.cos(x)*np.cos(y/np.sqrt(2)))+1"
      ],
      "metadata": {
        "id": "K8PlTwhOiB3m"
      },
      "execution_count": 32,
      "outputs": []
    },
    {
      "cell_type": "markdown",
      "source": [
        "Parámetros"
      ],
      "metadata": {
        "id": "FMKLvUb8iG2-"
      }
    },
    {
      "cell_type": "code",
      "source": [
        "xl = np.array([-5, -5])\n",
        "xu = np.array([5, 5])\n",
        "\n",
        "G = 20\n",
        "N = 50\n",
        "D = 2\n",
        "\n",
        "w = 0.6\n",
        "c1 = 2\n",
        "c2 = 2\n",
        "\n",
        "# IWAPSO\n",
        "w_max = 0.8\n",
        "w_min = 0.1\n",
        "\n",
        "x = np.zeros((D, N))\n",
        "xp = np.zeros((D, N))\n",
        "v = np.zeros((D, N))\n",
        "fitness = np.zeros(N)\n",
        "\n",
        "f_plot = np.zeros(G)\n",
        "\n",
        "for i in range(N):\n",
        "    x[:, i] = xl + (xu - xl) * np.random.rand(D)\n",
        "    xp[:, i] = x[:, i]\n",
        "    v[:, i] = 0.5 * np.random.randn(D)\n",
        "    fitness[i] = f(x[0, i], x[1, i])"
      ],
      "metadata": {
        "id": "qfQtZYn_iHse"
      },
      "execution_count": 33,
      "outputs": []
    },
    {
      "cell_type": "markdown",
      "source": [
        "# PSO"
      ],
      "metadata": {
        "id": "Q6VNsmzPiODu"
      }
    },
    {
      "cell_type": "code",
      "source": [
        "for i in range(N):\n",
        "    x[:, i] = xl + (xu - xl) * np.random.rand(D)\n",
        "    xp[:, i] = x[:, i]\n",
        "    v[:, i] = 0.5 * np.random.randn(D)\n",
        "    fitness[i] = f(x[0, i], x[1, i])\n",
        "\n",
        "for g in range(G):\n",
        "    display.display(plt.gcf())\n",
        "    display.clear_output(wait=True)\n",
        "    plot_contour(f, x, xl, xu)\n",
        "\n",
        "    for i in range(N):\n",
        "        fx = f(x[0, i], x[1, i])\n",
        "\n",
        "        if fx < fitness[i]:\n",
        "            xp[:, i] = x[:, i]\n",
        "            fitness[i] = fx\n",
        "\n",
        "        ig = np.argmin(fitness)\n",
        "\n",
        "    for i in range(N):\n",
        "        v[:, i] = w * v[:, i] + c1 * np.random.rand() * (xp[:, i] - x[:, i]) + c2 * np.random.rand() * (xp[:, ig] - x[:, i])\n",
        "        x[:, i] = x[:, i] + v[:, i]\n",
        "\n",
        "    f_plot[g] = np.min(fitness)\n",
        "\n",
        "print(\"Mínimo global en x=\", xp[0, ig], \" y=\", xp[1, ig], \" f(x,y)=\", f(xp[0, ig], xp[1, ig]))\n",
        "plot_surf(f, x, xl, xu, ig)\n",
        "plt.plot(range(G), f_plot)"
      ],
      "metadata": {
        "id": "oWl-SSd1iP9G"
      },
      "execution_count": null,
      "outputs": []
    },
    {
      "cell_type": "markdown",
      "source": [
        "# CFPSO"
      ],
      "metadata": {
        "id": "vcg7oIdEjESn"
      }
    },
    {
      "cell_type": "code",
      "source": [
        "w = 0.6\n",
        "c1 = 2.1\n",
        "c2 = 2.05\n",
        "\n",
        "phi = c1 + c2\n",
        "K = 2/np.abs(2-phi-np.sqrt(phi**2-4*phi))\n",
        "\n",
        "for i in range(N):\n",
        "    x[:, i] = xl + (xu - xl) * np.random.rand(D)\n",
        "    xp[:, i] = x[:, i]\n",
        "    v[:, i] = 0.5 * np.random.randn(D)\n",
        "    fitness[i] = f(x[0, i], x[1, i])\n",
        "\n",
        "for g in range(G):\n",
        "    display.display(plt.gcf())\n",
        "    display.clear_output(wait=True)\n",
        "    plot_contour(f, x, xl, xu)\n",
        "\n",
        "    for i in range(N):\n",
        "        fx = f(x[0, i], x[1, i])\n",
        "\n",
        "        if fx < fitness[i]:\n",
        "            xp[:, i] = x[:, i]\n",
        "            fitness[i] = fx\n",
        "\n",
        "        ig = np.argmin(fitness)\n",
        "\n",
        "    for i in range(N):\n",
        "        v[:, i] = K * v[:, i] + c1 * np.random.rand() * (xp[:, i] - x[:, i]) + c2 * np.random.rand() * (xp[:, ig] - x[:, i])\n",
        "        x[:, i] = x[:, i] + v[:, i]\n",
        "\n",
        "    f_plot[g] = np.min(fitness)\n",
        "\n",
        "print(\"Mínimo global en x=\", xp[0, ig], \" y=\", xp[1, ig], \" f(x,y)=\", f(xp[0, ig], xp[1, ig]))\n",
        "plot_surf(f, x, xl, xu, ig)\n",
        "plt.plot(range(G), f_plot)"
      ],
      "metadata": {
        "id": "MS1DcBZzjHy3"
      },
      "execution_count": null,
      "outputs": []
    },
    {
      "cell_type": "markdown",
      "source": [
        "# WAPSO"
      ],
      "metadata": {
        "id": "A5AFffZ9j7hg"
      }
    },
    {
      "cell_type": "code",
      "source": [
        "for i in range(N):\n",
        "    x[:, i] = xl + (xu - xl) * np.random.rand(D)\n",
        "    xp[:, i] = x[:, i]\n",
        "    v[:, i] = 0.5 * np.random.randn(D)\n",
        "    fitness[i] = f(x[0, i], x[1, i])\n",
        "\n",
        "for g in range(G):\n",
        "    display.display(plt.gcf())\n",
        "    display.clear_output(wait=True)\n",
        "    plot_contour(f, x, xl, xu)\n",
        "\n",
        "    for i in range(N):\n",
        "        fx = f(x[0, i], x[1, i])\n",
        "\n",
        "        if fx < fitness[i]:\n",
        "            xp[:, i] = x[:, i]\n",
        "            fitness[i] = fx\n",
        "\n",
        "    ig = np.argmin(fitness)\n",
        "    w = w_max - (g / G) * (w_max - w_min)\n",
        "\n",
        "\n",
        "    for i in range(N):\n",
        "        v[:, i] = w * v[:, i] + c1 * np.random.rand() * (xp[:, i] - x[:, i]) + c2 * np.random.rand() * (xp[:, ig] - x[:, i])\n",
        "        x[:, i] = x[:, i] + v[:, i]\n",
        "\n",
        "    f_plot[g] = np.min(fitness)\n",
        "\n",
        "print(\"Mínimo global en x=\", xp[0, ig], \" y=\", xp[1, ig], \" f(x,y)=\", f(xp[0, ig], xp[1, ig]))\n",
        "plot_surf(f, x, xl, xu, ig)\n",
        "plt.plot(range(G), f_plot)"
      ],
      "metadata": {
        "id": "CK87ztJTj8nw"
      },
      "execution_count": null,
      "outputs": []
    }
  ]
}