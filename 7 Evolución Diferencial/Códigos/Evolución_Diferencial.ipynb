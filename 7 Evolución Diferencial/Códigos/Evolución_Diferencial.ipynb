{
  "nbformat": 4,
  "nbformat_minor": 0,
  "metadata": {
    "colab": {
      "provenance": [],
      "include_colab_link": true
    },
    "kernelspec": {
      "name": "python3",
      "display_name": "Python 3"
    },
    "language_info": {
      "name": "python"
    }
  },
  "cells": [
    {
      "cell_type": "markdown",
      "metadata": {
        "id": "view-in-github",
        "colab_type": "text"
      },
      "source": [
        "<a href=\"https://colab.research.google.com/github/Jegovila/SSPIA1/blob/main/7%20Evoluci%C3%B3n%20Diferencial/C%C3%B3digos/Evoluci%C3%B3n_Diferencial.ipynb\" target=\"_parent\"><img src=\"https://colab.research.google.com/assets/colab-badge.svg\" alt=\"Open In Colab\"/></a>"
      ]
    },
    {
      "cell_type": "code",
      "execution_count": null,
      "metadata": {
        "id": "SN1O5V0UmXeN"
      },
      "outputs": [],
      "source": [
        "!wget -nc 'https://raw.githubusercontent.com/Jegovila/SSPIA1/main/7%20Evoluci%C3%B3n%20Diferencial/C%C3%B3digos/Plot_Contour.py'\n",
        "!wget -nc 'https://raw.githubusercontent.com/Jegovila/SSPIA1/main/7%20Evoluci%C3%B3n%20Diferencial/C%C3%B3digos/Plot_Surf.py'\n",
        "\n",
        "import matplotlib.pyplot as plt\n",
        "import numpy as np\n",
        "from Plot_Surf import *\n",
        "from Plot_Contour import *\n",
        "from IPython import display"
      ]
    },
    {
      "cell_type": "markdown",
      "source": [
        "Función objetivo"
      ],
      "metadata": {
        "id": "sON-6jajm0_q"
      }
    },
    {
      "cell_type": "code",
      "source": [
        "f = lambda x, y: (x-2)**2 + (y-2)**2\n",
        "#f = lambda x, y: -20 * np.exp(-0.2 * np.sqrt(0.5*(x**2 + y**2))) - np.exp(0.5*(np.cos(2*np.pi*x)+np.cos(2*np.pi*y))) + 20 + np.exp(1)\n",
        "#f = lambda x, y: -((1+np.cos(12*np.sqrt(x**2+y**2))) / (0.5*(x**2+y**2)+2))\n",
        "#f = lambda x, y: 10*2 + x**2 + y**2 - 10*np.cos(2*np.pi*x) - 10*np.cos(2*np.pi*y)\n",
        "#f = lambda x, y: ((x**2/4000)+(y**2/4000))-(np.cos(x)*np.cos(y/np.sqrt(2)))+1"
      ],
      "metadata": {
        "id": "UOR_DZWKm3Ya"
      },
      "execution_count": 2,
      "outputs": []
    },
    {
      "cell_type": "markdown",
      "source": [
        "Parámetros"
      ],
      "metadata": {
        "id": "0D1AQ1oYm4e6"
      }
    },
    {
      "cell_type": "code",
      "source": [
        "xl = np.array([-5, -5])\n",
        "xu = np.array([5, 5])\n",
        "\n",
        "G = 30\n",
        "N = 50\n",
        "D = 2\n",
        "\n",
        "F = 0.6\n",
        "CR = 0.9\n",
        "\n",
        "x = np.zeros((D, N))\n",
        "fitness = np.zeros(N)\n",
        "\n",
        "for i in range(N):\n",
        "    x[:, i] = xl + (xu - xl) * np.random.rand(D)\n",
        "    fitness[i] = f(x[0, i], x[1, i])\n",
        "\n",
        "fx_plot = np.zeros(G)"
      ],
      "metadata": {
        "id": "scViz_AEm5h6"
      },
      "execution_count": 5,
      "outputs": []
    },
    {
      "cell_type": "markdown",
      "source": [
        "# DE"
      ],
      "metadata": {
        "id": "L4loz2Bwm895"
      }
    },
    {
      "cell_type": "code",
      "source": [
        "for n in range(G):\n",
        "    display.display(plt.gcf())\n",
        "    display.clear_output(wait=True)\n",
        "    plot_contour(f, x, xl, xu)\n",
        "\n",
        "    for i in range(N):\n",
        "        # Mutación\n",
        "        r1 = i\n",
        "        while r1 == i:\n",
        "            r1 = np.random.randint(N)\n",
        "\n",
        "        r2 = r1\n",
        "        while r2 == r1 or r2 == i:\n",
        "            r2 = np.random.randint(N)\n",
        "\n",
        "        r3 = r2\n",
        "        while r3 == r2 or r3 == r1 or r3 == i:\n",
        "            r3 = np.random.randint(N)\n",
        "\n",
        "        v = x[:, r1] + F * (x[:, r2] - x[:, r3])\n",
        "\n",
        "        # Recombinación\n",
        "        u = np.zeros(D)\n",
        "\n",
        "        for j in range(D):\n",
        "            r = np.random.rand()\n",
        "\n",
        "            if r <= CR:\n",
        "                u[j] = v[j]\n",
        "            else:\n",
        "                u[j] = x[j, i]\n",
        "\n",
        "        # Selección\n",
        "        fitness_u = f(u[0], u[1])\n",
        "\n",
        "        if fitness_u < fitness[i]:\n",
        "            x[:,i] = u\n",
        "            fitness[i] = fitness_u\n",
        "\n",
        "    fx_plot[n] = np.min(fitness)\n",
        "\n",
        "igb = np.argmin(fitness)\n",
        "\n",
        "print(\"Mínimo global en x=\", x[0, igb], \" y=\", x[1, igb], \" f(x,y)=\", f(x[0, igb], x[1, igb]))\n",
        "plot_surf(f, x, xl, xu, igb)\n",
        "plt.plot(fx_plot)"
      ],
      "metadata": {
        "id": "XcOvcHazm-Np"
      },
      "execution_count": null,
      "outputs": []
    },
    {
      "cell_type": "markdown",
      "source": [
        "# DE Best 1 bin"
      ],
      "metadata": {
        "id": "PDTVWEsTnpUq"
      }
    },
    {
      "cell_type": "code",
      "source": [
        "for i in range(N):\n",
        "    x[:, i] = xl + (xu - xl) * np.random.rand(D)\n",
        "    fitness[i] = f(x[0, i], x[1, i])\n",
        "\n",
        "fx_plot = np.zeros(G)\n",
        "\n",
        "for n in range(G):\n",
        "    display.display(plt.gcf())\n",
        "    display.clear_output(wait=True)\n",
        "    plot_contour(f, x, xl, xu)\n",
        "\n",
        "    for i in range(N):\n",
        "        # Mutación\n",
        "        r1 = i\n",
        "        while r1 == 1:\n",
        "            r1 = np.random.randint(N)\n",
        "\n",
        "        r2 = r1\n",
        "        while r2 == r1 or r2 == i:\n",
        "            r2 = np.random.randint(N)\n",
        "\n",
        "        best = np.argmin(fitness)\n",
        "\n",
        "        v = x[:, best] + F * (x[:, r1] - x[:, r2])\n",
        "\n",
        "        #Recombinación\n",
        "        u = np.zeros(D)\n",
        "        k = np.random.randint(D)\n",
        "\n",
        "        for j in range(D):\n",
        "            r = np.random.rand()\n",
        "\n",
        "            if r <= CR or j == k:\n",
        "                u[j] = v[j]\n",
        "            else:\n",
        "                u[j] = x[j, i]\n",
        "\n",
        "        #Selección\n",
        "        fitness_u = f(u[0], u[1])\n",
        "\n",
        "        if fitness_u < fitness[i]:\n",
        "            x[:, i] = u\n",
        "            fitness[i] = fitness_u\n",
        "\n",
        "    fx_plot[n] = np.min(fitness)\n",
        "\n",
        "igb = np.argmin(fitness)\n",
        "\n",
        "print(\"Mínimo global en x=\", x[0, igb], \" y=\", x[1, igb], \" f(x,y)=\", f(x[0, igb], x[1, igb]))\n",
        "plot_surf(f, x, xl, xu, igb)\n",
        "plt.plot(fx_plot)"
      ],
      "metadata": {
        "id": "3jpjWzJInxiz"
      },
      "execution_count": null,
      "outputs": []
    },
    {
      "cell_type": "markdown",
      "source": [
        "# DE Current to Rand 1 exp"
      ],
      "metadata": {
        "id": "n8RtE2vToC3i"
      }
    },
    {
      "cell_type": "code",
      "source": [
        "for i in range(N):\n",
        "    x[:, i] = xl + (xu - xl) * np.random.rand(D)\n",
        "    fitness[i] = f(x[0, i], x[1, i])\n",
        "\n",
        "fx_plot = np.zeros(G)\n",
        "\n",
        "for n in range(G):\n",
        "    display.display(plt.gcf())\n",
        "    display.clear_output(wait=True)\n",
        "    plot_contour(f, x, xl, xu)\n",
        "\n",
        "    for i in range(N):\n",
        "        # Mutación\n",
        "        r1 = i\n",
        "        while r1 == i:\n",
        "            r1 = np.random.randint(N)\n",
        "\n",
        "        r2 = r1\n",
        "        while r2 == r1 or r2 == i:\n",
        "            r2 = np.random.randint(N)\n",
        "\n",
        "        r3 = r2\n",
        "        while r3 == r2 or r3 == r1 or r3 == i:\n",
        "            r3 = np.random.randint(N)\n",
        "\n",
        "        v = x[:, i] + F * (x[:, r1] - x[:, i]) + F * (x[:, r2] - x[:, r3])\n",
        "\n",
        "        # Recombinación\n",
        "        u = x[:, i].copy() # vector de prueba\n",
        "        j = np.random.randint(D)\n",
        "        L = 0\n",
        "\n",
        "        while np.random.rand() <= CR and L <= D:\n",
        "            u[j] = v[j]\n",
        "            j = np.mod(j, D)\n",
        "            L = L + 1\n",
        "\n",
        "        # Selección\n",
        "        fitness_u = f(u[0], u[1])\n",
        "\n",
        "        if fitness_u < fitness[i]:\n",
        "            x[:, i] = u\n",
        "            fitness[i] = fitness_u\n",
        "\n",
        "    fx_plot[n] = np.min(fitness)\n",
        "\n",
        "igb = np.argmin(fitness)\n",
        "\n",
        "print(\"Mínimo global en x=\", x[0, igb], \" y=\", x[1, igb], \" f(x,y)=\", f(x[0, igb], x[1, igb]))\n",
        "plot_surf(f, x, xl, xu, igb)\n",
        "plt.plot(fx_plot)"
      ],
      "metadata": {
        "id": "VFcqpivooLZ5"
      },
      "execution_count": null,
      "outputs": []
    }
  ]
}