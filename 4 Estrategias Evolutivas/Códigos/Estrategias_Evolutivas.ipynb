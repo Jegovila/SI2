{
  "nbformat": 4,
  "nbformat_minor": 0,
  "metadata": {
    "colab": {
      "provenance": [],
      "collapsed_sections": [
        "sG5aDSPjRj92"
      ],
      "include_colab_link": true
    },
    "kernelspec": {
      "name": "python3",
      "display_name": "Python 3"
    },
    "language_info": {
      "name": "python"
    }
  },
  "cells": [
    {
      "cell_type": "markdown",
      "metadata": {
        "id": "view-in-github",
        "colab_type": "text"
      },
      "source": [
        "<a href=\"https://colab.research.google.com/github/Jegovila/SI2/blob/main/4%20Estrategias%20Evolutivas/C%C3%B3digos/Estrategias_Evolutivas.ipynb\" target=\"_parent\"><img src=\"https://colab.research.google.com/assets/colab-badge.svg\" alt=\"Open In Colab\"/></a>"
      ]
    },
    {
      "cell_type": "code",
      "source": [
        "# Debug\n",
        "!pip install -Uqq ipdb\n",
        "import ipdb"
      ],
      "metadata": {
        "id": "L2Csdv5d_Mou"
      },
      "execution_count": 1,
      "outputs": []
    },
    {
      "cell_type": "code",
      "source": [
        "## Encender y apagar el debugger\n",
        "%pdb off\n",
        "## Para agregar un breakpoint\n",
        "# ipdb.set_trace()"
      ],
      "metadata": {
        "id": "zCvjmfpQ_Ohd"
      },
      "execution_count": null,
      "outputs": []
    },
    {
      "cell_type": "code",
      "execution_count": null,
      "metadata": {
        "id": "Wsh3AHe5Ob49"
      },
      "outputs": [],
      "source": [
        "!wget -nc 'https://raw.githubusercontent.com/Jegovila/SSPIA1/main/4%20Estrategias%20Evolutivas/C%C3%B3digos/1%20(1%2B1)-ES/Plot_Surf.py'\n",
        "!wget -nc 'https://raw.githubusercontent.com/Jegovila/SSPIA1/main/4%20Estrategias%20Evolutivas/C%C3%B3digos/1%20(1%2B1)-ES/Plot_Contour.py'\n",
        "\n",
        "import matplotlib.pyplot as plt\n",
        "import numpy as np\n",
        "from Plot_Surf import *\n",
        "from Plot_Contour import *\n",
        "from IPython import display"
      ]
    },
    {
      "cell_type": "markdown",
      "source": [
        "Función objetivo"
      ],
      "metadata": {
        "id": "C_q-3FIPQZSm"
      }
    },
    {
      "cell_type": "code",
      "source": [
        "# f = lambda x, y: x * np.exp((-x**2) - (y**2))\n",
        "# f = lambda x, y: (x-2)**2 + (y-2)**2\n",
        "f = lambda x, y: np.abs(x)**2 + np.abs(y)**3"
      ],
      "metadata": {
        "id": "r6YxIvOvQcBl"
      },
      "execution_count": 4,
      "outputs": []
    },
    {
      "cell_type": "markdown",
      "source": [
        "# (1+1)"
      ],
      "metadata": {
        "id": "DFQP16VkQkJ9"
      }
    },
    {
      "cell_type": "markdown",
      "source": [
        "Parámetros"
      ],
      "metadata": {
        "id": "AGA6GOToQe7l"
      }
    },
    {
      "cell_type": "code",
      "source": [
        "xl = np.array([-5, -5])\n",
        "xu = np.array([5, 5])\n",
        "\n",
        "G = 100\n",
        "D = 2\n",
        "\n",
        "sigma = 0.2"
      ],
      "metadata": {
        "id": "U8_TMWxeQf9u"
      },
      "execution_count": null,
      "outputs": []
    },
    {
      "cell_type": "markdown",
      "source": [
        "Algoritmo"
      ],
      "metadata": {
        "id": "AUDObMxsSlzn"
      }
    },
    {
      "cell_type": "code",
      "source": [
        "x = xl + (xu - xl) * np.random.rand(D)\n",
        "f_plot = np.zeros(G)\n",
        "\n",
        "for i in range(G):\n",
        "    r = np.random.normal(0, sigma, D)\n",
        "    y = x + r\n",
        "\n",
        "    if f(y[0], y[1]) < f(x[0], x[1]):\n",
        "        x = y.copy()\n",
        "\n",
        "    f_plot[i] = f(x[0],x[1])\n",
        "\n",
        "    display.display(plt.gcf())\n",
        "    display.clear_output(wait=True)\n",
        "    plot_contour(f,x, y, xl, xu)\n",
        "\n",
        "plot_surf(f, x, xl, xu)\n",
        "print(\"Mínimo en x=\", x[0], \" y=\", x[1], \" f(x,y)=\", f(x[0], x[1]))\n",
        "plt.plot(range(G), f_plot)"
      ],
      "metadata": {
        "id": "1LG0N80bQmid"
      },
      "execution_count": null,
      "outputs": []
    },
    {
      "cell_type": "markdown",
      "source": [
        "# ($\\mu$ + 1)"
      ],
      "metadata": {
        "id": "sG5aDSPjRj92"
      }
    },
    {
      "cell_type": "markdown",
      "source": [
        "Recombinación"
      ],
      "metadata": {
        "id": "66CQLQqVRoV-"
      }
    },
    {
      "cell_type": "code",
      "source": [
        "def Recombination(x1, x2):\n",
        "    y = 0.5 * (x1 + x2)\n",
        "    return y"
      ],
      "metadata": {
        "id": "JUwnJKZ1RptG"
      },
      "execution_count": null,
      "outputs": []
    },
    {
      "cell_type": "markdown",
      "source": [
        "Parámetros"
      ],
      "metadata": {
        "id": "qDof5IBsRwOO"
      }
    },
    {
      "cell_type": "code",
      "source": [
        "G = 80\n",
        "D = 2\n",
        "mu = 30\n",
        "\n",
        "xl = np.array([-5, -5])\n",
        "xu = np.array([5, 5])\n",
        "\n",
        "x = np.zeros((D, mu+1))\n",
        "sigma = np.zeros((D, mu+1))\n",
        "fitness = np.zeros(mu+1)\n",
        "\n",
        "p_plot = np.zeros(G)"
      ],
      "metadata": {
        "id": "5k29c8IHRxcO"
      },
      "execution_count": null,
      "outputs": []
    },
    {
      "cell_type": "markdown",
      "source": [
        "Algoritmo"
      ],
      "metadata": {
        "id": "7rD5R2V4R0sW"
      }
    },
    {
      "cell_type": "code",
      "source": [
        "for i in range(mu):\n",
        "    x[:, i] = xl + (xu - xl) * np.random.rand(D)\n",
        "    sigma[:, i] = 0.2 * np.random.rand(D)\n",
        "    fitness[i] = f(x[0, i], x[1, i])\n",
        "\n",
        "for g in range(G):\n",
        "    display.display(plt.gcf())\n",
        "    display.clear_output(wait=True)\n",
        "    plot_contour(f, x, [0,0], xl, xu)\n",
        "\n",
        "    r1 = np.random.randint(mu)\n",
        "    r2 = r1\n",
        "\n",
        "    while r2 == r1:\n",
        "        r2 = np.random.randint(mu)\n",
        "\n",
        "    x[:, mu] = Recombination(x[:, r1], x[:, r2])\n",
        "    sigma[:, mu] = Recombination(sigma[:, r1], sigma[:, r2])\n",
        "\n",
        "    r = np.random.normal(0, sigma[:, mu], D)\n",
        "    x[:, mu] = x[:, mu] + r\n",
        "\n",
        "    fitness[mu] = f(x[0, mu], x[1, mu])\n",
        "\n",
        "    Idx = np.argsort(fitness)\n",
        "    x = x[:, Idx]\n",
        "    sigma = sigma[:, Idx]\n",
        "    fitness = fitness[Idx]\n",
        "\n",
        "    p_plot[g] = np.min(fitness)\n",
        "\n",
        "Idx_b = np.argmin(fitness)\n",
        "plot_surf(f, x, xl, xu)\n",
        "plt.plot(range(G), p_plot)\n",
        "print(\"Mínimo en x=\", x[0, Idx_b], \" y=\", x[1, Idx_b], \" f(x,y)=\", f(x[0, Idx_b], x[1, Idx_b]))\n"
      ],
      "metadata": {
        "id": "9xb1CN4_R1mW"
      },
      "execution_count": null,
      "outputs": []
    },
    {
      "cell_type": "markdown",
      "source": [
        "# ($\\mu$ + $\\lambda$)"
      ],
      "metadata": {
        "id": "CZygo_3bWHj5"
      }
    },
    {
      "cell_type": "markdown",
      "source": [
        "Recombinación"
      ],
      "metadata": {
        "id": "nYrnYncqWOUp"
      }
    },
    {
      "cell_type": "code",
      "source": [
        "def Recombination(x1, x2):\n",
        "    n = np.size(x1)\n",
        "    y = np.zeros(n)\n",
        "    Tipo_Recomb = 0 # sexual discreta -> 1, sexual intermedia -> 0\n",
        "\n",
        "    for d in range(n):\n",
        "        if Tipo_Recomb == 1:\n",
        "            if np.random.randint(0,2):\n",
        "                y[d] = x1[d]\n",
        "            else:\n",
        "                y[d] = x2[d]\n",
        "        else:\n",
        "            y[d] = 0.5 * (x1[d] + x2[d])\n",
        "    return y"
      ],
      "metadata": {
        "id": "8-ldoq3oWKPx"
      },
      "execution_count": null,
      "outputs": []
    },
    {
      "cell_type": "markdown",
      "source": [
        "Parámetros"
      ],
      "metadata": {
        "id": "bmI7PVstWQI6"
      }
    },
    {
      "cell_type": "code",
      "source": [
        "xl = np.array([-5, -5])\n",
        "xu = np.array([5, 5])\n",
        "\n",
        "G = 10\n",
        "D = 2\n",
        "mu = 30\n",
        "l = 10\n",
        "\n",
        "x = np.zeros((D, mu+l))\n",
        "sigma = np.zeros((D, mu+l))\n",
        "fitness = np.zeros(mu+l)\n",
        "\n",
        "p_plot = np.zeros(G)"
      ],
      "metadata": {
        "id": "EAzAh7sZWYXB"
      },
      "execution_count": null,
      "outputs": []
    },
    {
      "cell_type": "markdown",
      "source": [
        "Algoritmo"
      ],
      "metadata": {
        "id": "vua-GBaRWdmp"
      }
    },
    {
      "cell_type": "code",
      "source": [
        "for i in range(mu):\n",
        "    x[:, i] = xl + (xu - xl) * np.random.rand(D)\n",
        "    sigma[:, i] = 0.5 * np.random.rand(D)\n",
        "    fitness[i] = f(x[0, i], x[1, i])\n",
        "\n",
        "for g in range(G):\n",
        "    display.display(plt.gcf())\n",
        "    display.clear_output(wait=True)\n",
        "    plot_contour(f, x[:, 0:mu], [0,0], xl, xu)\n",
        "\n",
        "    for i in range(l):\n",
        "\n",
        "        r1 = np.random.randint(mu)\n",
        "        r2 = r1\n",
        "\n",
        "        while r2 == r1:\n",
        "            r2 = np.random.randint(mu)\n",
        "\n",
        "        x[:, mu+i] = Recombination(x[:, r1], x[:, r2])\n",
        "        sigma[:, mu+i] = Recombination(sigma[:, r1], sigma[:, r2])\n",
        "\n",
        "        r = np.random.normal(0, sigma[:, mu+i], D)\n",
        "        x[:, mu+i] = x[:, mu+i] + r\n",
        "        fitness[mu+i] = f(x[0, mu+i], x[1, mu+i])\n",
        "\n",
        "    Idx = np.argsort(fitness)\n",
        "    x = x[:, Idx]\n",
        "    sigma = sigma[:, Idx]\n",
        "    fitness = fitness[Idx]\n",
        "\n",
        "    p_plot[g] = np.min(fitness)\n",
        "\n",
        "Idx_b = np.argmin(fitness)\n",
        "plot_surf(f, x, xl, xu)\n",
        "plt.plot(range(G), p_plot)\n",
        "print(\"Mínimo en x=\", x[0, Idx_b], \" y=\", x[1, Idx_b], \" f(x,y)=\", f(x[0, Idx_b], x[1, Idx_b]))\n"
      ],
      "metadata": {
        "id": "7p34Qh_OWehh"
      },
      "execution_count": null,
      "outputs": []
    },
    {
      "cell_type": "markdown",
      "source": [
        "# ($\\mu$, $\\lambda$)"
      ],
      "metadata": {
        "id": "yk-jEhJ3MDGi"
      }
    },
    {
      "cell_type": "markdown",
      "source": [
        "Recombinación"
      ],
      "metadata": {
        "id": "cmygHgv4BkQq"
      }
    },
    {
      "cell_type": "code",
      "source": [
        "def Recombination(x1, x2):\n",
        "    n = np.size(x1)\n",
        "    y = np.zeros(n)\n",
        "    Tipo_Recomb = 0 # sexual discreta -> 1, sexual intermedia -> 0\n",
        "\n",
        "    for d in range(n):\n",
        "        if Tipo_Recomb == 1:\n",
        "            if np.random.randint(0,2):\n",
        "                y[d] = x1[d]\n",
        "            else:\n",
        "                y[d] = x2[d]\n",
        "        else:\n",
        "            y[d] = 0.5 * (x1[d] + x2[d])\n",
        "    return y"
      ],
      "metadata": {
        "id": "q-96bEHxBnXQ"
      },
      "execution_count": 5,
      "outputs": []
    },
    {
      "cell_type": "markdown",
      "source": [
        "Parámetros"
      ],
      "metadata": {
        "id": "zeq5xSkSBp1N"
      }
    },
    {
      "cell_type": "code",
      "source": [
        "xl = np.array([-5, -5])\n",
        "xu = np.array([5, 5])\n",
        "\n",
        "G = 10\n",
        "D = 2\n",
        "mu = 30\n",
        "l = 60\n",
        "\n",
        "x = np.zeros((D, mu))\n",
        "sigma = np.zeros((D, mu))\n",
        "\n",
        "y = np.zeros((D, l))\n",
        "sigma_y = np.zeros((D, l))\n",
        "\n",
        "fitness = np.zeros(l)\n",
        "\n",
        "p_plot = np.zeros(G)"
      ],
      "metadata": {
        "id": "AdLLpvOTBr0T"
      },
      "execution_count": 6,
      "outputs": []
    },
    {
      "cell_type": "markdown",
      "source": [
        "Algoritmo"
      ],
      "metadata": {
        "id": "RcgGOGAUBu2a"
      }
    },
    {
      "cell_type": "code",
      "source": [
        "for i in range(mu):\n",
        "    x[:, i] = xl + (xu - xl) * np.random.rand(D)\n",
        "    sigma[:, i] = 0.5 * np.random.rand(D)\n",
        "    fitness[i] = f(x[0, i], x[1, i])\n",
        "\n",
        "for g in range(G):\n",
        "    display.display(plt.gcf())\n",
        "    display.clear_output(wait=True)\n",
        "    plot_contour(f, x[:, 0:mu], [0,0], xl, xu)\n",
        "\n",
        "    for i in range(l):\n",
        "\n",
        "        r1 = np.random.randint(mu)\n",
        "        r2 = r1\n",
        "\n",
        "        while r2 == r1:\n",
        "            r2 = np.random.randint(mu)\n",
        "\n",
        "        y[:, i] = Recombination(x[:, r1], x[:, r2])\n",
        "        sigma_y[:, i] = Recombination(sigma[:, r1], sigma[:, r2])\n",
        "\n",
        "        r = np.random.normal(0, sigma_y[:, i], D)\n",
        "        y[:, i] = y[:, i] + r\n",
        "        fitness[i] = f(y[0, i], y[1, i])\n",
        "\n",
        "    Idx = np.argsort(fitness)\n",
        "    x = y[:, Idx]\n",
        "    sigma = sigma_y[:, Idx]\n",
        "    fitness = fitness[Idx]\n",
        "\n",
        "    x = x[:,:mu]\n",
        "    sigma = sigma_y[:,:mu]\n",
        "    p_plot[g] = np.min(fitness)\n",
        "\n",
        "Idx_b = np.argmin(fitness)\n",
        "plot_surf(f, x, xl, xu)\n",
        "plt.plot(range(G), p_plot)\n",
        "print(\"Mínimo en x=\", x[0, Idx_b], \" y=\", x[1, Idx_b], \" f(x,y)=\", f(x[0, Idx_b], x[1, Idx_b]))\n"
      ],
      "metadata": {
        "collapsed": true,
        "id": "hOKZP3qhBv7_"
      },
      "execution_count": null,
      "outputs": []
    }
  ]
}