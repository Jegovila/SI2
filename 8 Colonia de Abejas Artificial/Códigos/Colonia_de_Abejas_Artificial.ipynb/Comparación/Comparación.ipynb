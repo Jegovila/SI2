{
  "nbformat": 4,
  "nbformat_minor": 0,
  "metadata": {
    "colab": {
      "provenance": [],
      "include_colab_link": true
    },
    "kernelspec": {
      "name": "python3",
      "display_name": "Python 3"
    },
    "language_info": {
      "name": "python"
    }
  },
  "cells": [
    {
      "cell_type": "markdown",
      "metadata": {
        "id": "view-in-github",
        "colab_type": "text"
      },
      "source": [
        "<a href=\"https://colab.research.google.com/github/Jegovila/SSPIA1/blob/main/8%20Colonia%20de%20Abejas%20Artificial/C%C3%B3digos/Colonia_de_Abejas_Artificial.ipynb/Comparaci%C3%B3n/Comparaci%C3%B3n.ipynb\" target=\"_parent\"><img src=\"https://colab.research.google.com/assets/colab-badge.svg\" alt=\"Open In Colab\"/></a>"
      ]
    },
    {
      "cell_type": "code",
      "execution_count": null,
      "metadata": {
        "id": "SN1O5V0UmXeN"
      },
      "outputs": [],
      "source": [
        "!wget -nc 'https://raw.githubusercontent.com/Jegovila/SSPIA1/main/8%20Colonia%20de%20Abejas%20Artificial/C%C3%B3digos/Plot_Contour.py'\n",
        "!wget -nc 'https://raw.githubusercontent.com/Jegovila/SSPIA1/main/8%20Colonia%20de%20Abejas%20Artificial/C%C3%B3digos/Plot_Surf.py'\n",
        "\n",
        "import matplotlib.pyplot as plt\n",
        "import numpy as np\n",
        "from Plot_Surf import *\n",
        "from Plot_Contour import *\n",
        "from IPython import display"
      ]
    },
    {
      "cell_type": "markdown",
      "source": [
        "Función objetivo"
      ],
      "metadata": {
        "id": "sON-6jajm0_q"
      }
    },
    {
      "cell_type": "code",
      "source": [
        "f = lambda x, y: np.sin(x+y) + (x-y) ** 2 - 1.5 * x + 2.5 * y+1 # McCormick Function"
      ],
      "metadata": {
        "id": "UOR_DZWKm3Ya"
      },
      "execution_count": null,
      "outputs": []
    },
    {
      "cell_type": "markdown",
      "source": [
        "Parámetros"
      ],
      "metadata": {
        "id": "0D1AQ1oYm4e6"
      }
    },
    {
      "cell_type": "code",
      "source": [
        "xl = np.array([-1.5, -3])\n",
        "xu = np.array([4, 4])\n",
        "\n",
        "G = 30\n",
        "N = 50\n",
        "D = 2\n",
        "\n",
        "# DE\n",
        "F = 0.6\n",
        "CR = 0.9\n",
        "\n",
        "# PSO\n",
        "xp = np.zeros((D, N))\n",
        "v = np.zeros((D, N))\n",
        "w = 0.6\n",
        "c1 = 2\n",
        "c2 = 2\n",
        "\n",
        "# IWAPSO\n",
        "w_max = 0.8\n",
        "w_min = 0.1\n",
        "\n",
        "# (mu + lambda)\n",
        "mu = 30\n",
        "l = 10\n",
        "\n",
        "\n",
        "x = np.zeros((D, N))\n",
        "fitness = np.zeros(N)\n",
        "\n",
        "for i in range(N):\n",
        "    x[:, i] = xl + (xu - xl) * np.random.rand(D)\n",
        "    fitness[i] = f(x[0, i], x[1, i])\n",
        "\n",
        "f_plot = np.zeros(G)\n",
        "fx_plot = np.zeros(G)"
      ],
      "metadata": {
        "id": "scViz_AEm5h6"
      },
      "execution_count": null,
      "outputs": []
    },
    {
      "cell_type": "markdown",
      "source": [
        "# DE"
      ],
      "metadata": {
        "id": "L4loz2Bwm895"
      }
    },
    {
      "cell_type": "code",
      "source": [
        "for n in range(G):\n",
        "    display.display(plt.gcf())\n",
        "    display.clear_output(wait=True)\n",
        "    plot_contour(f, x, xl, xu)\n",
        "\n",
        "    for i in range(N):\n",
        "        # Mutación\n",
        "        r1 = i\n",
        "        while r1 == i:\n",
        "            r1 = np.random.randint(N)\n",
        "\n",
        "        r2 = r1\n",
        "        while r2 == r1 or r2 == i:\n",
        "            r2 = np.random.randint(N)\n",
        "\n",
        "        r3 = r2\n",
        "        while r3 == r2 or r3 == r1 or r3 == i:\n",
        "            r3 = np.random.randint(N)\n",
        "\n",
        "        v = x[:, r1] + F * (x[:, r2] - x[:, r3])\n",
        "\n",
        "        # Recombinación\n",
        "        u = np.zeros(D)\n",
        "\n",
        "        for j in range(D):\n",
        "            r = np.random.rand()\n",
        "\n",
        "            if r <= CR:\n",
        "                u[j] = v[j]\n",
        "            else:\n",
        "                u[j] = x[j, i]\n",
        "\n",
        "        # Selección\n",
        "        fitness_u = f(u[0], u[1])\n",
        "\n",
        "        if fitness_u < fitness[i]:\n",
        "            x[:,i] = u\n",
        "            fitness[i] = fitness_u\n",
        "\n",
        "    fx_plot[n] = np.min(fitness)\n",
        "\n",
        "igb = np.argmin(fitness)\n",
        "\n",
        "print(\"Mínimo global en x=\", x[0, igb], \" y=\", x[1, igb], \" f(x,y)=\", f(x[0, igb], x[1, igb]))\n",
        "plot_surf(f, x, xl, xu, igb)\n",
        "plt.plot(fx_plot)"
      ],
      "metadata": {
        "id": "XcOvcHazm-Np"
      },
      "execution_count": null,
      "outputs": []
    },
    {
      "cell_type": "markdown",
      "source": [
        "# DE Best 1 bin"
      ],
      "metadata": {
        "id": "PDTVWEsTnpUq"
      }
    },
    {
      "cell_type": "code",
      "source": [
        "for i in range(N):\n",
        "    x[:, i] = xl + (xu - xl) * np.random.rand(D)\n",
        "    fitness[i] = f(x[0, i], x[1, i])\n",
        "\n",
        "fx_plot = np.zeros(G)\n",
        "\n",
        "for n in range(G):\n",
        "    display.display(plt.gcf())\n",
        "    display.clear_output(wait=True)\n",
        "    plot_contour(f, x, xl, xu)\n",
        "\n",
        "    for i in range(N):\n",
        "        # Mutación\n",
        "        r1 = i\n",
        "        while r1 == i:\n",
        "            r1 = np.random.randint(N)\n",
        "\n",
        "        r2 = r1\n",
        "        while r2 == r1 or r2 == i:\n",
        "            r2 = np.random.randint(N)\n",
        "\n",
        "        best = np.argmin(fitness)\n",
        "\n",
        "        v = x[:, best] + F * (x[:, r1] - x[:, r2])\n",
        "\n",
        "        #Recombinación\n",
        "        u = np.zeros(D)\n",
        "        k = np.random.randint(D)\n",
        "\n",
        "        for j in range(D):\n",
        "            r = np.random.rand()\n",
        "\n",
        "            if r <= CR or j == k:\n",
        "                u[j] = v[j]\n",
        "            else:\n",
        "                u[j] = x[j, i]\n",
        "\n",
        "        #Selección\n",
        "        fitness_u = f(u[0], u[1])\n",
        "\n",
        "        if fitness_u < fitness[i]:\n",
        "            x[:, i] = u\n",
        "            fitness[i] = fitness_u\n",
        "\n",
        "    fx_plot[n] = np.min(fitness)\n",
        "\n",
        "igb = np.argmin(fitness)\n",
        "\n",
        "print(\"Mínimo global en x=\", x[0, igb], \" y=\", x[1, igb], \" f(x,y)=\", f(x[0, igb], x[1, igb]))\n",
        "plot_surf(f, x, xl, xu, igb)\n",
        "plt.plot(fx_plot)"
      ],
      "metadata": {
        "id": "3jpjWzJInxiz"
      },
      "execution_count": null,
      "outputs": []
    },
    {
      "cell_type": "markdown",
      "source": [
        "# DE Current to Rand 1 exp"
      ],
      "metadata": {
        "id": "n8RtE2vToC3i"
      }
    },
    {
      "cell_type": "code",
      "source": [
        "for i in range(N):\n",
        "    x[:, i] = xl + (xu - xl) * np.random.rand(D)\n",
        "    fitness[i] = f(x[0, i], x[1, i])\n",
        "\n",
        "fx_plot = np.zeros(G)\n",
        "\n",
        "for n in range(G):\n",
        "    display.display(plt.gcf())\n",
        "    display.clear_output(wait=True)\n",
        "    plot_contour(f, x, xl, xu)\n",
        "\n",
        "    for i in range(N):\n",
        "        # Mutación\n",
        "        r1 = i\n",
        "        while r1 == i:\n",
        "            r1 = np.random.randint(N)\n",
        "\n",
        "        r2 = r1\n",
        "        while r2 == r1 or r2 == i:\n",
        "            r2 = np.random.randint(N)\n",
        "\n",
        "        r3 = r2\n",
        "        while r3 == r2 or r3 == r1 or r3 == i:\n",
        "            r3 = np.random.randint(N)\n",
        "\n",
        "        v = x[:, i] + F * (x[:, r1] - x[:, i]) + F * (x[:, r2] - x[:, r3])\n",
        "\n",
        "        # Recombinación\n",
        "        u = x[:, i].copy() # vector de prueba\n",
        "        j = np.random.randint(D)\n",
        "        L = 1\n",
        "\n",
        "        u[j] = v[j]\n",
        "        while np.random.rand() <= CR and L < D:\n",
        "            u[j] = v[j]\n",
        "            j = np.mod(j, D)\n",
        "            L = L + 1\n",
        "\n",
        "        # Selección\n",
        "        fitness_u = f(u[0], u[1])\n",
        "\n",
        "        if fitness_u < fitness[i]:\n",
        "            x[:, i] = u\n",
        "            fitness[i] = fitness_u\n",
        "\n",
        "    fx_plot[n] = np.min(fitness)\n",
        "\n",
        "igb = np.argmin(fitness)\n",
        "\n",
        "print(\"Mínimo global en x=\", x[0, igb], \" y=\", x[1, igb], \" f(x,y)=\", f(x[0, igb], x[1, igb]))\n",
        "plot_surf(f, x, xl, xu, igb)\n",
        "plt.plot(fx_plot)"
      ],
      "metadata": {
        "id": "VFcqpivooLZ5"
      },
      "execution_count": null,
      "outputs": []
    },
    {
      "cell_type": "markdown",
      "source": [
        "# PSO"
      ],
      "metadata": {
        "id": "H1IkkhLPCon9"
      }
    },
    {
      "cell_type": "code",
      "source": [
        "for i in range(N):\n",
        "    x[:, i] = xl + (xu - xl) * np.random.rand(D)\n",
        "    xp[:, i] = x[:, i]\n",
        "    v[:, i] = 0.5 * np.random.randn(D)\n",
        "    fitness[i] = f(x[0, i], x[1, i])\n",
        "\n",
        "for i in range(N):\n",
        "    x[:, i] = xl + (xu - xl) * np.random.rand(D)\n",
        "    xp[:, i] = x[:, i]\n",
        "    v[:, i] = 0.5 * np.random.randn(D)\n",
        "    fitness[i] = f(x[0, i], x[1, i])\n",
        "\n",
        "for g in range(G):\n",
        "    display.display(plt.gcf())\n",
        "    display.clear_output(wait=True)\n",
        "    plot_contour(f, x, xl, xu)\n",
        "\n",
        "    for i in range(N):\n",
        "        fx = f(x[0, i], x[1, i])\n",
        "\n",
        "        if fx < fitness[i]:\n",
        "            xp[:, i] = x[:, i]\n",
        "            fitness[i] = fx\n",
        "\n",
        "        ig = np.argmin(fitness)\n",
        "\n",
        "    for i in range(N):\n",
        "        v[:, i] = w * v[:, i] + c1 * np.random.rand() * (xp[:, i] - x[:, i]) + c2 * np.random.rand() * (xp[:, ig] - x[:, i])\n",
        "        x[:, i] = x[:, i] + v[:, i]\n",
        "\n",
        "    f_plot[g] = np.min(fitness)\n",
        "\n",
        "print(\"Mínimo global en x=\", xp[0, ig], \" y=\", xp[1, ig], \" f(x,y)=\", f(xp[0, ig], xp[1, ig]))\n",
        "plot_surf(f, x, xl, xu, ig)\n",
        "plt.plot(range(G), f_plot)"
      ],
      "metadata": {
        "id": "InmDTV5_Cqcq"
      },
      "execution_count": null,
      "outputs": []
    },
    {
      "cell_type": "markdown",
      "source": [
        "# WAPSO"
      ],
      "metadata": {
        "id": "g2pFjh4jDLGg"
      }
    },
    {
      "cell_type": "code",
      "source": [
        "for i in range(N):\n",
        "    x[:, i] = xl + (xu - xl) * np.random.rand(D)\n",
        "    xp[:, i] = x[:, i]\n",
        "    v[:, i] = 0.5 * np.random.randn(D)\n",
        "    fitness[i] = f(x[0, i], x[1, i])\n",
        "\n",
        "for g in range(G):\n",
        "    display.display(plt.gcf())\n",
        "    display.clear_output(wait=True)\n",
        "    plot_contour(f, x, xl, xu)\n",
        "\n",
        "    for i in range(N):\n",
        "        fx = f(x[0, i], x[1, i])\n",
        "\n",
        "        if fx < fitness[i]:\n",
        "            xp[:, i] = x[:, i]\n",
        "            fitness[i] = fx\n",
        "\n",
        "    ig = np.argmin(fitness)\n",
        "    w = w_max - (g / G) * (w_max - w_min)\n",
        "\n",
        "\n",
        "    for i in range(N):\n",
        "        v[:, i] = w * v[:, i] + c1 * np.random.rand() * (xp[:, i] - x[:, i]) + c2 * np.random.rand() * (xp[:, ig] - x[:, i])\n",
        "        x[:, i] = x[:, i] + v[:, i]\n",
        "\n",
        "    f_plot[g] = np.min(fitness)\n",
        "\n",
        "print(\"Mínimo global en x=\", xp[0, ig], \" y=\", xp[1, ig], \" f(x,y)=\", f(xp[0, ig], xp[1, ig]))\n",
        "plot_surf(f, x, xl, xu, ig)\n",
        "plt.plot(range(G), f_plot)"
      ],
      "metadata": {
        "id": "jE5WUUbfDM4x"
      },
      "execution_count": null,
      "outputs": []
    },
    {
      "cell_type": "markdown",
      "source": [
        "# Hill Climbing Random Mutation"
      ],
      "metadata": {
        "id": "SaJk_XYwDooF"
      }
    },
    {
      "cell_type": "code",
      "source": [
        "x = xl + (xu-xl) * np.random.random(2)\n",
        "f_plot = np.zeros(G)\n",
        "\n",
        "for i in range(G):\n",
        "    y = x.copy()\n",
        "    j = np.random.randint(2)\n",
        "    y[j] = xl[j] + (xu[j] - xl[j]) * np.random.random()\n",
        "\n",
        "    if f(y[0], y[1]) < f(x[0], x[1]):\n",
        "        x = y\n",
        "\n",
        "    display.display(plt.gcf())\n",
        "    display.clear_output(wait=True)\n",
        "    plot_contour(f, x, xl, xu)\n",
        "    f_plot[i] = f(x[0], x[1])\n",
        "\n",
        "#plot_surf(f,x,xl,xu)\n",
        "print(\"Mínimo global en x=\", x[0], \" y=\", x[1], \" f(x,y)=\", f(x[0],x[1]))\n",
        "\n",
        "plt.plot(range(G), f_plot)\n",
        "plt.title(\"Convergencia\")"
      ],
      "metadata": {
        "id": "mr1Sy-_tDrgU"
      },
      "execution_count": null,
      "outputs": []
    },
    {
      "cell_type": "markdown",
      "source": [
        "# ES (mu + lambda)"
      ],
      "metadata": {
        "id": "JbiwwlsmEU3n"
      }
    },
    {
      "cell_type": "code",
      "source": [
        "def Recombination(x1, x2):\n",
        "    n = np.size(x1)\n",
        "    y = np.zeros(n)\n",
        "    Tipo_Recomb = 0 # sexual discreta -> 1, sexual intermedia -> 0\n",
        "\n",
        "    for d in range(n):\n",
        "        if Tipo_Recomb == 1:\n",
        "            if np.random.randint(0,2):\n",
        "                y[d] = x1[d]\n",
        "            else:\n",
        "                y[d] = x2[d]\n",
        "        else:\n",
        "            y[d] = 0.5 * (x1[d] + x2[d])\n",
        "    return y"
      ],
      "metadata": {
        "id": "xNFBgzwhEWIB"
      },
      "execution_count": null,
      "outputs": []
    },
    {
      "cell_type": "code",
      "source": [
        "x = np.zeros((D, mu+l))\n",
        "sigma = np.zeros((D, mu+l))\n",
        "fitness = np.zeros(mu+l)\n",
        "\n",
        "p_plot = np.zeros(G)\n",
        "\n",
        "for i in range(mu):\n",
        "    x[:, i] = xl + (xu - xl) * np.random.rand(D)\n",
        "    sigma[:, i] = 0.5 * np.random.rand(D)\n",
        "    fitness[i] = f(x[0, i], x[1, i])\n",
        "\n",
        "for g in range(G):\n",
        "    display.display(plt.gcf())\n",
        "    display.clear_output(wait=True)\n",
        "    plot_contour(f, x[:, 0:mu], xl, xu)\n",
        "\n",
        "    for i in range(l):\n",
        "\n",
        "        r1 = np.random.randint(mu)\n",
        "        r2 = r1\n",
        "\n",
        "        while r2 == r1:\n",
        "            r2 = np.random.randint(mu)\n",
        "\n",
        "        x[:, mu+i] = Recombination(x[:, r1], x[:, r2])\n",
        "        sigma[:, mu+i] = Recombination(sigma[:, r1], sigma[:, r2])\n",
        "\n",
        "        r = np.random.normal(0, sigma[:, mu+i], D)\n",
        "        x[:, mu+i] = x[:, mu+i] + r\n",
        "        fitness[mu+i] = f(x[0, mu+i], x[1, mu+i])\n",
        "\n",
        "    Idx = np.argsort(fitness)\n",
        "    x = x[:, Idx]\n",
        "    sigma = sigma[:, Idx]\n",
        "    fitness = fitness[Idx]\n",
        "\n",
        "    p_plot[g] = np.min(fitness)\n",
        "\n",
        "Idx_b = np.argmin(fitness)\n",
        "#plot_surf(f, x, xl, xu)\n",
        "plt.plot(range(G), p_plot)\n",
        "print(\"Mínimo en x=\", x[0, Idx_b], \" y=\", x[1, Idx_b], \" f(x,y)=\", f(x[0, Idx_b], x[1, Idx_b]))"
      ],
      "metadata": {
        "id": "RUjMZFkGEo9E"
      },
      "execution_count": null,
      "outputs": []
    }
  ]
}