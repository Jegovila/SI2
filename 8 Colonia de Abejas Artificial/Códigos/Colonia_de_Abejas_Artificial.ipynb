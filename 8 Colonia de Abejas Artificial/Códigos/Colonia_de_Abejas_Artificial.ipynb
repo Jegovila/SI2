{
  "nbformat": 4,
  "nbformat_minor": 0,
  "metadata": {
    "colab": {
      "provenance": [],
      "authorship_tag": "ABX9TyNKbb0n7mwJ8Jsy63FfPWPD",
      "include_colab_link": true
    },
    "kernelspec": {
      "name": "python3",
      "display_name": "Python 3"
    },
    "language_info": {
      "name": "python"
    }
  },
  "cells": [
    {
      "cell_type": "markdown",
      "metadata": {
        "id": "view-in-github",
        "colab_type": "text"
      },
      "source": [
        "<a href=\"https://colab.research.google.com/github/Jegovila/Computo-Evolutivo/blob/main/8%20Colonia%20de%20Abejas%20Artificial/C%C3%B3digos/Colonia_de_Abejas_Artificial.ipynb\" target=\"_parent\"><img src=\"https://colab.research.google.com/assets/colab-badge.svg\" alt=\"Open In Colab\"/></a>"
      ]
    },
    {
      "cell_type": "code",
      "execution_count": null,
      "metadata": {
        "id": "bQWrXyFZpkEH"
      },
      "outputs": [],
      "source": [
        "!wget -nc 'https://raw.githubusercontent.com/Jegovila/Computo-Evolutivo/main/8%20Colonia%20de%20Abejas%20Artificial/C%C3%B3digos/Plot_Contour.py'\n",
        "!wget -nc 'https://raw.githubusercontent.com/Jegovila/Computo-Evolutivo/main/8%20Colonia%20de%20Abejas%20Artificial/C%C3%B3digos/Plot_Surf.py'\n",
        "\n",
        "import matplotlib.pyplot as plt\n",
        "import numpy as np\n",
        "from Plot_Surf import *\n",
        "from Plot_Contour import *\n",
        "from IPython import display"
      ]
    },
    {
      "cell_type": "markdown",
      "source": [
        "Selección"
      ],
      "metadata": {
        "id": "6ojiRvFlqs7c"
      }
    },
    {
      "cell_type": "code",
      "source": [
        "def Seleccion(aptitud):\n",
        "    Idx = np.argsort(aptitud)\n",
        "    Idx = Idx[::-1]\n",
        "    N = (aptitud.size)\n",
        "\n",
        "    rank = np.arange(N,-1,-1)\n",
        "    rank_total = np.sum(rank)\n",
        "\n",
        "    r = np.random.rand()\n",
        "    p_sum = 0\n",
        "\n",
        "    for i in range(N):\n",
        "        p_sum = p_sum + rank[i] / rank_total\n",
        "\n",
        "        if p_sum >= r:\n",
        "            n = Idx[i]\n",
        "            return n\n",
        "\n",
        "    n = Idx[N]\n",
        "    return n"
      ],
      "metadata": {
        "id": "girf28aDqt1L"
      },
      "execution_count": 3,
      "outputs": []
    },
    {
      "cell_type": "markdown",
      "source": [
        "Función objetivo"
      ],
      "metadata": {
        "id": "bQhGe5egqv2b"
      }
    },
    {
      "cell_type": "code",
      "source": [
        "f = lambda x, y: (x-2)**2 + (y-2)**2\n",
        "#f = lambda x, y: -20 * np.exp(-0.2 * np.sqrt(0.5*(x**2 + y**2))) - np.exp(0.5*(np.cos(2*np.pi*x)+np.cos(2*np.pi*y))) + 20 + np.exp(1)\n",
        "#f = lambda x, y: -((1+np.cos(12*np.sqrt(x**2+y**2))) / (0.5*(x**2+y**2)+2))\n",
        "#f = lambda x, y: 10*2 + x**2 + y**2 - 10*np.cos(2*np.pi*x) - 10*np.cos(2*np.pi*y)\n",
        "#f = lambda x, y: ((x**2/4000)+(y**2/4000))-(np.cos(x)*np.cos(y/np.sqrt(2)))+1"
      ],
      "metadata": {
        "id": "NR7gbW64qxWT"
      },
      "execution_count": 4,
      "outputs": []
    },
    {
      "cell_type": "markdown",
      "source": [
        "Parámetros"
      ],
      "metadata": {
        "id": "ws_O0KoFqzFT"
      }
    },
    {
      "cell_type": "code",
      "source": [
        "xl = np.array([-5, -5])\n",
        "xu = np.array([5, 5])\n",
        "\n",
        "D = 2\n",
        "G = 150\n",
        "\n",
        "N = 50\n",
        "L = 15\n",
        "\n",
        "Pf = 30\n",
        "Po = N - Pf\n",
        "\n",
        "x = np.zeros((D,Pf))\n",
        "l = np.zeros(Pf)\n",
        "aptitud = np.zeros(Pf)\n",
        "fitness = np.zeros(Pf)\n",
        "\n",
        "for i in range(Pf):\n",
        "    x[:, i] = xl + (xu - xl) * np.random.rand(D)\n",
        "    fitness[i] = f(x[0, i], x[1, i])"
      ],
      "metadata": {
        "id": "d98yyn8yqz9L"
      },
      "execution_count": 5,
      "outputs": []
    },
    {
      "cell_type": "markdown",
      "source": [
        "# ABC"
      ],
      "metadata": {
        "id": "6Y0z9706q2q2"
      }
    },
    {
      "cell_type": "code",
      "source": [
        "for g in range(G):\n",
        "    display.display(plt.gcf())\n",
        "    display.clear_output(wait=True)\n",
        "    plot_contour(f, x, xl, xu)\n",
        "\n",
        "    # Abejas empleadas:\n",
        "    for i in range(Pf):\n",
        "        k = i\n",
        "        while k == i:\n",
        "            k = np.random.randint(Pf)\n",
        "\n",
        "        j = np.random.randint(D)\n",
        "        phi = 2 * np.random.rand() - 1\n",
        "\n",
        "        v = x[:, i].copy()\n",
        "        v[j] = x[j, i] + phi * (x[j, i] - x[j, k])\n",
        "\n",
        "        fv = f(v[0], v[1])\n",
        "\n",
        "        if fv < fitness[i]:\n",
        "            x[:, i] = v\n",
        "            fitness[i] = fv\n",
        "            l[i] = 0\n",
        "        else:\n",
        "            l[i] = l[i] + 1\n",
        "\n",
        "        if fitness[i] >= 0:\n",
        "            aptitud[i] = 1/(1 + fitness[i])\n",
        "        else:\n",
        "            aptitud[i] = 1 + np.abs(fitness[i])\n",
        "\n",
        "    for i in range(Po):\n",
        "        m = Seleccion(aptitud)\n",
        "\n",
        "        k = m\n",
        "        while k == m:\n",
        "            k = np.random.randint(Pf)\n",
        "\n",
        "        j = np.random.randint(D)\n",
        "        phi = 2 * np.random.rand() - 1\n",
        "\n",
        "        v = x[:, m].copy()\n",
        "        v[j] = x[j, m] + phi * (x[j, m] - x[j, k])\n",
        "\n",
        "        fv = f(v[0], v[1])\n",
        "\n",
        "        if fv < fitness[m]:\n",
        "            x[:, m] = v\n",
        "            fitness[m] = fv\n",
        "\n",
        "            l[m] = 0\n",
        "        else:\n",
        "            l[m] = l[m] + 1\n",
        "\n",
        "    # Abejas exploradoras\n",
        "    for i in range(Pf):\n",
        "        if l[i] > L:\n",
        "            x[:, i] = xl + (xu - xl) * np.random.rand(D)\n",
        "            fitness[i] = f(x[0, i], x[1, i])\n",
        "            l[i] = 0\n",
        "\n",
        "\n",
        "igb = np.argmin(fitness)\n",
        "\n",
        "print(\"Mínimo global en x=\", x[0, igb], \" y=\", x[1, igb], \" f(x,y)=\", fitness[igb])\n",
        "plot_surf(f, x, xl, xu, igb)"
      ],
      "metadata": {
        "id": "fSPBROZuq42T"
      },
      "execution_count": null,
      "outputs": []
    }
  ]
}