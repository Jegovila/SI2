{
  "nbformat": 4,
  "nbformat_minor": 0,
  "metadata": {
    "colab": {
      "provenance": [],
      "authorship_tag": "ABX9TyOMFcxUDbr+3eu4vGyE+ws4",
      "include_colab_link": true
    },
    "kernelspec": {
      "name": "python3",
      "display_name": "Python 3"
    },
    "language_info": {
      "name": "python"
    }
  },
  "cells": [
    {
      "cell_type": "markdown",
      "metadata": {
        "id": "view-in-github",
        "colab_type": "text"
      },
      "source": [
        "<a href=\"https://colab.research.google.com/github/Jegovila/SSPIA1/blob/main/10%20Proyecci%C3%B3n%20de%20imagen/Practica_2.ipynb\" target=\"_parent\"><img src=\"https://colab.research.google.com/assets/colab-badge.svg\" alt=\"Open In Colab\"/></a>"
      ]
    },
    {
      "cell_type": "code",
      "execution_count": null,
      "metadata": {
        "id": "WfRgifO5zVn3"
      },
      "outputs": [],
      "source": [
        "!wget -nc 'https://raw.githubusercontent.com/Jegovila/SSPIA1/main/10%20Proyecci%C3%B3n%20de%20imagen/A.bmp'\n",
        "!wget -nc 'https://raw.githubusercontent.com/Jegovila/SSPIA1/main/10%20Proyecci%C3%B3n%20de%20imagen/B.bmp'\n",
        "\n",
        "import cv2\n",
        "import numpy as np\n",
        "import matplotlib.pyplot as plt\n",
        "import imutils"
      ]
    },
    {
      "cell_type": "markdown",
      "source": [
        "# Funciones"
      ],
      "metadata": {
        "id": "DL7GHiLR0aBY"
      }
    },
    {
      "cell_type": "markdown",
      "source": [
        "## Extraer puntos"
      ],
      "metadata": {
        "id": "xOG02Bpi0cgh"
      }
    },
    {
      "cell_type": "code",
      "source": [
        "def Extraer_Puntos(ImgA, ImgB):\n",
        "    akaze = cv2.AKAZE_create()\n",
        "    kpts1, desc1 = akaze.detectAndCompute(ImgA, None)\n",
        "    kpts2, desc2 = akaze.detectAndCompute(ImgB, None)\n",
        "\n",
        "    matcher = cv2.DescriptorMatcher_create(cv2.DescriptorMatcher_BRUTEFORCE_HAMMING)\n",
        "    bf = cv2.BFMatcher(cv2.NORM_HAMMING)\n",
        "    nn_matches = matcher.knnMatch(desc1, desc2, 2)\n",
        "\n",
        "    good = []\n",
        "    for m, n in nn_matches:\n",
        "        if m.distance < 0.1 * n.distance:\n",
        "            good.append([m])\n",
        "    #im3 = cv2.drawMatchesKnn(ImgA, kpts1, ImgB, kpts2, good[:600], None, flags=2)\n",
        "    #cv2.imshow(\"AKAZE matching\", im3)\n",
        "    #cv2.waitKey(0)\n",
        "\n",
        "    pointsImgA = np.empty([len(good), 2])\n",
        "    pointsImgB = np.empty([len(good), 2])\n",
        "\n",
        "    for i in range(len(good)):\n",
        "        pointsImgA[i, :] = kpts1[good[i][0].queryIdx].pt\n",
        "        pointsImgB[i, :] = kpts2[good[i][0].trainIdx].pt\n",
        "\n",
        "    return pointsImgA[:600], pointsImgB[:600]"
      ],
      "metadata": {
        "id": "OF9l_NZF0XGs"
      },
      "execution_count": 2,
      "outputs": []
    },
    {
      "cell_type": "markdown",
      "source": [
        "## Desplegar imágenes"
      ],
      "metadata": {
        "id": "ybraMT2O0lON"
      }
    },
    {
      "cell_type": "code",
      "source": [
        "\n",
        "def plot_images(*imgs, figsize=(10,5), hide_ticks=False):\n",
        "    '''Display one or multiple images.'''\n",
        "    f = plt.figure(figsize=figsize)\n",
        "    width = np.ceil(np.sqrt(len(imgs))).astype('int')\n",
        "    height = np.ceil(len(imgs) / width).astype('int')\n",
        "    for i, img in enumerate(imgs, 1):\n",
        "        ax = f.add_subplot(height, width, i)\n",
        "        if hide_ticks:\n",
        "            ax.axis('off')\n",
        "        ax.imshow(cv2.cvtColor(img, cv2.COLOR_BGR2RGB))"
      ],
      "metadata": {
        "id": "f6IYHfi_0na_"
      },
      "execution_count": 3,
      "outputs": []
    },
    {
      "cell_type": "markdown",
      "source": [
        "## Crear Panorama"
      ],
      "metadata": {
        "id": "vxOVS6aC0qXC"
      }
    },
    {
      "cell_type": "code",
      "source": [
        "def Crear_Figura_Panoramica(ImgA, ImgB, T):\n",
        "    dim_x = ImgA.shape[0] + ImgB.shape[0]\n",
        "    dim_y = ImgA.shape[1] + ImgB.shape[1]\n",
        "    dim = (dim_x, dim_y)\n",
        "\n",
        "    warped = cv2.warpPerspective(ImgB, T, dim)\n",
        "\n",
        "    #plot_images(warped)\n",
        "    comb = warped.copy()\n",
        "\n",
        "    # combinar las dos imagenes\n",
        "    comb[0:ImgA.shape[0], 0:ImgA.shape[1]] = ImgA\n",
        "\n",
        "    # crop (Recortar al tamaño de la imagen de salida)\n",
        "    gray = cv2.cvtColor(comb, cv2.COLOR_BGR2GRAY)\n",
        "    thresh = cv2.threshold(gray, 0, 255, cv2.THRESH_BINARY)[1]\n",
        "\n",
        "    cnts = cv2.findContours(thresh.copy(), cv2.RETR_EXTERNAL, cv2.CHAIN_APPROX_SIMPLE)\n",
        "    cnts = imutils.grab_contours(cnts)\n",
        "\n",
        "    c = max(cnts, key=cv2.contourArea)\n",
        "\n",
        "    (x, y, w, h) = cv2.boundingRect(c)\n",
        "\n",
        "    comb = comb[y:y + h, x:x + w]\n",
        "    plot_images(comb)\n",
        "    plt.show()"
      ],
      "metadata": {
        "id": "aUy5SSGs0rpE"
      },
      "execution_count": 4,
      "outputs": []
    },
    {
      "cell_type": "markdown",
      "source": [
        "## Construir Matriz de transformación"
      ],
      "metadata": {
        "id": "hlljOxTr0toG"
      }
    },
    {
      "cell_type": "code",
      "source": [
        "def Construir_Matriz_Transformacion(x):\n",
        "    T = np.array([[x[0], x[1], x[2]], [x[3], x[4], x[5]], [x[6], x[7], x[8]]])\n",
        "    return T"
      ],
      "metadata": {
        "id": "lE5HKzys0vyv"
      },
      "execution_count": 5,
      "outputs": []
    },
    {
      "cell_type": "markdown",
      "source": [
        "## Cálculo del error"
      ],
      "metadata": {
        "id": "hbJN2t1_0yyV"
      }
    },
    {
      "cell_type": "code",
      "source": [
        "def Calcular_Errores(pA, ppB):\n",
        "    ppB = ppB.transpose()\n",
        "    e = np.sqrt((pA[:, 0] - ppB[:, 0]) ** 2 + (pA[:, 1] - ppB[:, 1]) ** 2)\n",
        "    return e"
      ],
      "metadata": {
        "id": "R6vDDVI800JE"
      },
      "execution_count": 6,
      "outputs": []
    },
    {
      "cell_type": "markdown",
      "source": [
        "## Transformar Puntos"
      ],
      "metadata": {
        "id": "xb19WJl404eH"
      }
    },
    {
      "cell_type": "code",
      "source": [
        "def Transformar_Puntos(p, T):\n",
        "    p2 = np.empty([len(p), 2])\n",
        "    for i in range(len(p)):\n",
        "        p2[i, :] = p[i]\n",
        "\n",
        "    P = np.concatenate((p2, np.ones([len(p),1])),1) @ T.transpose()\n",
        "    pp = np.array([P[:, 0] / P[:, 2], P[:, 1] / P[:, 2]])\n",
        "\n",
        "    return pp"
      ],
      "metadata": {
        "id": "YTP0j3nk0_aJ"
      },
      "execution_count": 7,
      "outputs": []
    },
    {
      "cell_type": "markdown",
      "source": [
        "# Algoritmo"
      ],
      "metadata": {
        "id": "eGfLLQth1AwJ"
      }
    },
    {
      "cell_type": "markdown",
      "source": [
        "Leer imágenes y extraer puntos de interés"
      ],
      "metadata": {
        "id": "oLBQwSTb1DLU"
      }
    },
    {
      "cell_type": "code",
      "source": [
        "ImgA = cv2.imread('A.bmp')\n",
        "ImgB = cv2.imread('B.bmp')\n",
        "\n",
        "pA, pB = Extraer_Puntos(ImgA, ImgB)"
      ],
      "metadata": {
        "id": "SNGqqWuM1Gfq"
      },
      "execution_count": 8,
      "outputs": []
    },
    {
      "cell_type": "markdown",
      "source": [
        "Parámetros"
      ],
      "metadata": {
        "id": "Rh1HtNAN1J-F"
      }
    },
    {
      "cell_type": "code",
      "source": [
        "M = len(pB)\n",
        "l =  # <--- REGULACIÓN\n",
        "\n",
        "G =\n",
        "N =\n",
        "\n",
        "F =\n",
        "CR =\n",
        "\n",
        "xl = np.array([])\n",
        "xu = np.array([])\n",
        "D =\n",
        "\n",
        "x = np.zeros((D, N))\n",
        "fitness = np.zeros(N)\n",
        "\n",
        "fx_plot = np.zeros(G)"
      ],
      "metadata": {
        "id": "u54npoO-1LFs"
      },
      "execution_count": null,
      "outputs": []
    },
    {
      "cell_type": "markdown",
      "source": [
        "Algoritmo de optimización"
      ],
      "metadata": {
        "id": "fdYwqW0u1TXg"
      }
    },
    {
      "cell_type": "code",
      "source": [
        "for i in range(N):\n",
        "    x[:, i] = xl + (xu - xl) * np.random.rand(D)\n",
        "\n",
        "    T = Construir_Matriz_Transformacion(x[:, i])\n",
        "    ppB = Transformar_Puntos(pB, T)\n",
        "    e = Calcular_Errores(pA, ppB)\n",
        "\n",
        "    fitness[i] = np.sqrt((1/M) * np.sum(e ** 2)) + l * (1/D) * np.sum(x[:,i] ** 2)\n",
        "\n",
        "for n in range(G):\n",
        "    for i in range(N):\n",
        "        # Mutación\n",
        "        I = np.random.permutation(N)\n",
        "        I = np.delete(I, [np.where(I == i)[0][0]])\n",
        "\n",
        "        ## ----------- COMPLETAR AQUI ------------------------------------------##\n",
        "\n",
        "\n",
        "        v =\n",
        "\n",
        "        ## ---------------------------------------------------------------------##\n",
        "\n",
        "        # Recombinación\n",
        "        u = np.zeros(D)\n",
        "        k = np.random.randint(D)\n",
        "\n",
        "        for j in range(D):\n",
        "            if np.random.rand() <= CR or k == j:\n",
        "                u[j] = v[j].copy()\n",
        "            else:\n",
        "                u[j] = x[j, i].copy()\n",
        "\n",
        "        # Selección\n",
        "        T = Construir_Matriz_Transformacion(u)\n",
        "        ppB = Transformar_Puntos(pB, T)\n",
        "        e = Calcular_Errores(pA, ppB)\n",
        "\n",
        "        fitness_u = np.sqrt((1/M) * np.sum(e ** 2)) + l * (1/D) * np.sum(u ** 2)\n",
        "\n",
        "        if fitness_u < fitness[i]:\n",
        "            x[:, i] = u\n",
        "            fitness[i] = fitness_u\n",
        "\n",
        "    fx_plot[n] = np.min(fitness)\n",
        "\n",
        "igb = np.argmin(fitness)\n",
        "T = Construir_Matriz_Transformacion(x[:, igb])\n",
        "print(T)\n",
        "panorama = Crear_Figura_Panoramica(ImgA, ImgB, T)\n",
        "\n",
        "plt.plot(fx_plot)"
      ],
      "metadata": {
        "id": "jyKPIntx1VnE"
      },
      "execution_count": null,
      "outputs": []
    }
  ]
}