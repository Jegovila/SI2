{
  "nbformat": 4,
  "nbformat_minor": 0,
  "metadata": {
    "colab": {
      "provenance": [],
      "include_colab_link": true
    },
    "kernelspec": {
      "name": "python3",
      "display_name": "Python 3"
    },
    "language_info": {
      "name": "python"
    }
  },
  "cells": [
    {
      "cell_type": "markdown",
      "metadata": {
        "id": "view-in-github",
        "colab_type": "text"
      },
      "source": [
        "<a href=\"https://colab.research.google.com/github/Jegovila/SSPIA1/blob/main/3%20Algoritmos%20Gen%C3%A9ticos/C%C3%B3digos/Algoritmos_Gen%C3%A9ticos.ipynb\" target=\"_parent\"><img src=\"https://colab.research.google.com/assets/colab-badge.svg\" alt=\"Open In Colab\"/></a>"
      ]
    },
    {
      "cell_type": "code",
      "source": [
        "# Debug\n",
        "!pip install -Uqq ipdb\n",
        "import ipdb"
      ],
      "metadata": {
        "id": "zvozLbBp0I4I"
      },
      "execution_count": 30,
      "outputs": []
    },
    {
      "cell_type": "code",
      "source": [
        "## Encender y apagar el debugger\n",
        "%pdb off\n",
        "## Para agregar un breakpoint\n",
        "# ipdb.set_trace()"
      ],
      "metadata": {
        "id": "i_c6Hzbz0Qwx",
        "outputId": "caee1cf2-8915-4b40-d05c-1050550debc9",
        "colab": {
          "base_uri": "https://localhost:8080/"
        }
      },
      "execution_count": 29,
      "outputs": [
        {
          "output_type": "stream",
          "name": "stdout",
          "text": [
            "Automatic pdb calling has been turned OFF\n"
          ]
        }
      ]
    },
    {
      "cell_type": "code",
      "execution_count": null,
      "metadata": {
        "id": "gzDbOXcCbhQK"
      },
      "outputs": [],
      "source": [
        "!wget -nc https://raw.githubusercontent.com/Jegovila/SSPIA1/main/3%20Algoritmos%20Gen%C3%A9ticos/C%C3%B3digos/Plot_Surf.py\n",
        "!wget -nc https://raw.githubusercontent.com/Jegovila/SSPIA1/main/3%20Algoritmos%20Gen%C3%A9ticos/C%C3%B3digos/Plot_Contour.py\n",
        "\n",
        "import matplotlib.pyplot as plt\n",
        "import numpy as np\n",
        "from Plot_Surf import *\n",
        "from Plot_Contour import *\n",
        "from IPython import display"
      ]
    },
    {
      "cell_type": "markdown",
      "source": [
        "# Funciones"
      ],
      "metadata": {
        "id": "kjidC0EfcI3e"
      }
    },
    {
      "cell_type": "markdown",
      "source": [
        "## Selección"
      ],
      "metadata": {
        "id": "WPQ0R05ycEEX"
      }
    },
    {
      "cell_type": "code",
      "source": [
        "def Seleccion(aptitud):\n",
        "\n",
        "    # Solo elegir una de estas dos variantes\n",
        "    torneo = False\n",
        "    rank = False\n",
        "\n",
        "    if torneo:\n",
        "      N = (aptitud.size)\n",
        "      tao = int(np.round(N * 0.3))\n",
        "\n",
        "      I = np.random.randint(0, N, tao)\n",
        "      idx = np.argmax(aptitud[I])\n",
        "      n = I[idx]\n",
        "      return n\n",
        "    elif rank:\n",
        "      Idx = np.argsort(aptitud)\n",
        "      Idx = Idx[::-1]\n",
        "      N = (aptitud.size)\n",
        "\n",
        "      rank = np.arange(N,-1,-1)\n",
        "      rank_total = np.sum(rank)\n",
        "\n",
        "      r = np.random.rand()\n",
        "      p_sum = 0\n",
        "\n",
        "      for i in range(N):\n",
        "        p_sum = p_sum + rank[i] / rank_total\n",
        "\n",
        "        if p_sum >= r:\n",
        "            n = Idx[i]\n",
        "            return n\n",
        "\n",
        "      n = N\n",
        "      return n\n",
        "\n",
        "    # Selección sin variantes\n",
        "    aptitud_total = np.sum(aptitud)\n",
        "    N = (aptitud.size)\n",
        "\n",
        "    r = np.random.rand()\n",
        "    p_sum = 0\n",
        "\n",
        "    for i in range(N):\n",
        "        p_sum = p_sum + aptitud[i] / aptitud_total\n",
        "\n",
        "        if p_sum >= r:\n",
        "            n = i\n",
        "            return n\n",
        "\n",
        "    n = N\n",
        "    return n\n"
      ],
      "metadata": {
        "id": "wPL5m9NWcTuv"
      },
      "execution_count": 31,
      "outputs": []
    },
    {
      "cell_type": "markdown",
      "source": [
        "## Cruza"
      ],
      "metadata": {
        "id": "n67UeMN7cg1m"
      }
    },
    {
      "cell_type": "code",
      "source": [
        "def Cruza(x1, x2):\n",
        "\n",
        "  aritmetica = False\n",
        "  if aritmetica:\n",
        "    alpha = np.random.random()\n",
        "    y1 = alpha * x1 + (1-alpha)*x2\n",
        "    y2 = (1-alpha) * x1 + (alpha)*x2\n",
        "    return y1, y2\n",
        "\n",
        "\n",
        "  D = x1.size\n",
        "  pc = np.random.randint(0, D)\n",
        "\n",
        "  y1 = x1.copy()\n",
        "  y2 = x2.copy()\n",
        "\n",
        "  y1[pc:] = x2[pc:]\n",
        "  y2[pc:] = x1[pc:]\n",
        "\n",
        "  return y1, y2"
      ],
      "metadata": {
        "id": "BvMYp_Pscisv"
      },
      "execution_count": 32,
      "outputs": []
    },
    {
      "cell_type": "markdown",
      "source": [
        "## Mutación"
      ],
      "metadata": {
        "id": "sF6uc-Mycmf3"
      }
    },
    {
      "cell_type": "code",
      "source": [
        "def Mutacion(y, pm, x=None, xu=None):\n",
        "  normal = False\n",
        "\n",
        "  D, N = y.shape\n",
        "\n",
        "  for i in range(N):\n",
        "      for j in range(D):\n",
        "          if np.random.rand() < pm:\n",
        "            if normal or algoritmo == 'elitism':\n",
        "              y[j,i] = y[j,i] + np.random.normal(0, 1)\n",
        "            else:\n",
        "              y[j,i] = xl[j] + (xu[j] - xl[j]) * np.random.rand()\n",
        "  return y"
      ],
      "metadata": {
        "id": "MzFFaz_wcn6o"
      },
      "execution_count": 37,
      "outputs": []
    },
    {
      "cell_type": "markdown",
      "source": [
        "# Parámetros"
      ],
      "metadata": {
        "id": "3RDqvX3WcqeH"
      }
    },
    {
      "cell_type": "code",
      "source": [
        "f = lambda x, y: np.abs(x)**2 + np.abs(y)**3\n",
        "\n",
        "xl = np.array([-5, -5])\n",
        "xu = np.array([5, 5])\n",
        "\n",
        "N = 50 # Población, debe ser par\n",
        "E = 10\n",
        "D = 2\n",
        "G = 100\n",
        "pm = 0.01"
      ],
      "metadata": {
        "id": "Lgzboc9VcwZ_"
      },
      "execution_count": 5,
      "outputs": []
    },
    {
      "cell_type": "markdown",
      "source": [
        "# Algoritmos Genéticos"
      ],
      "metadata": {
        "id": "p3OltoWYuaJ-"
      }
    },
    {
      "cell_type": "markdown",
      "source": [
        "Elegir el algoritmo genético"
      ],
      "metadata": {
        "id": "EqWUaJJWxvIu"
      }
    },
    {
      "cell_type": "code",
      "source": [
        "algoritmo = 'ga'        # Clásico\n",
        "#algoritmo = 'elitism'  # Elitista"
      ],
      "metadata": {
        "id": "dTOdpulwxyN-"
      },
      "execution_count": 41,
      "outputs": []
    },
    {
      "cell_type": "code",
      "source": [
        "x = np.zeros((D,N))\n",
        "aptitud = np.zeros(N)\n",
        "f_plot = np.zeros(G) # Grafica Convergencia\n",
        "\n",
        "for i in range(N):\n",
        "    x[:, i] = xl + (xu - xl) * np.random.rand(D)\n",
        "\n",
        "for g in range(G):\n",
        "    display.display(plt.gcf())\n",
        "    display.clear_output(wait=True)\n",
        "    plot_contour(f, x, xl, xu)\n",
        "\n",
        "    for i in range(N):\n",
        "        fx = f(x[0, i], x[1, i])\n",
        "\n",
        "        if fx >= 0:\n",
        "            aptitud[i] = 1 / (1 + fx)\n",
        "        else:\n",
        "            aptitud[i] = 1 + np.abs(fx)\n",
        "\n",
        "        # Grafica Convergencia\n",
        "        i_mejor = np.argmax(aptitud)\n",
        "        xb = x[:, i_mejor]\n",
        "        fxb = f(xb[0],xb[1])\n",
        "        f_plot[g] = fxb\n",
        "\n",
        "    if algoritmo == 'ga':\n",
        "      y = np.zeros((D, N))\n",
        "      endloop = N\n",
        "    elif algoritmo == 'elitism':\n",
        "      y = np.zeros((D, N-E))\n",
        "      endloop = N-E\n",
        "\n",
        "    for i in range(0, endloop, 2):\n",
        "        r1 = Seleccion(aptitud)\n",
        "        r2 = r1\n",
        "        # Dos padres generan dos hijos\n",
        "        # El mismo padre puede tomar diferentes parejas\n",
        "        # pero para cada cruza deben ser dos padres diferentes\n",
        "        # De lo contrario, en la cruza saldrían padres = hijos\n",
        "        while r2 == r1:\n",
        "            r2 = Seleccion(aptitud)\n",
        "\n",
        "        y1, y2 = Cruza(x[:, r1], x[:, r2])\n",
        "\n",
        "        y[:, i] = y1\n",
        "        y[:, i+1] = y2\n",
        "\n",
        "    y = Mutacion(y, pm, xl, xu)\n",
        "\n",
        "    if algoritmo == 'ga':\n",
        "      x = y.copy()\n",
        "    elif algoritmo == 'elitism':\n",
        "      Idx = np.argsort(aptitud)\n",
        "      Idx = Idx[::-1]\n",
        "      x = np.concatenate((y,x[:, Idx[0:E]]),axis=1)\n",
        "\n",
        "for i in range(N):\n",
        "    fx = f(x[0, i], x[1, i])\n",
        "    if fx >= 0:\n",
        "        aptitud[i] = 1 / (1 + fx)\n",
        "    else:\n",
        "        aptitud[i] = 1 + abs(fx)\n",
        "\n",
        "\n",
        "plt.plot(range(G), f_plot)\n",
        "i_mejor = np.argmax(aptitud)\n",
        "plot_surf(f, x, xl, xu, i_mejor)\n",
        "\n",
        "print(\"Mínimo global en x=\", x[0,i_mejor], \" y=\", x[1,i_mejor], \" f(x,y)=\", f(x[0,i_mejor], x[1,i_mejor]))"
      ],
      "metadata": {
        "id": "arBihJdOuclm"
      },
      "execution_count": null,
      "outputs": []
    }
  ]
}