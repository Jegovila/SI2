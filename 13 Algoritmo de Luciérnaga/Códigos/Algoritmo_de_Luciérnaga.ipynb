{
  "nbformat": 4,
  "nbformat_minor": 0,
  "metadata": {
    "colab": {
      "provenance": [],
      "collapsed_sections": [
        "w9iESbvwduQ-"
      ],
      "include_colab_link": true
    },
    "kernelspec": {
      "name": "python3",
      "display_name": "Python 3"
    },
    "language_info": {
      "name": "python"
    }
  },
  "cells": [
    {
      "cell_type": "markdown",
      "metadata": {
        "id": "view-in-github",
        "colab_type": "text"
      },
      "source": [
        "<a href=\"https://colab.research.google.com/github/Jegovila/SSPIA1/blob/main/13%20Algoritmo%20de%20Luci%C3%A9rnaga/C%C3%B3digos/Algoritmo_de_Luci%C3%A9rnaga.ipynb\" target=\"_parent\"><img src=\"https://colab.research.google.com/assets/colab-badge.svg\" alt=\"Open In Colab\"/></a>"
      ]
    },
    {
      "cell_type": "code",
      "execution_count": null,
      "metadata": {
        "id": "Hdb7wRMMdXii"
      },
      "outputs": [],
      "source": [
        "!wget -nc 'https://raw.githubusercontent.com/Jegovila/SSPIA1/main/13%20Algoritmo%20de%20Luci%C3%A9rnaga/C%C3%B3digos/Plot_Contour.py'\n",
        "!wget -nc 'https://raw.githubusercontent.com/Jegovila/SSPIA1/main/13%20Algoritmo%20de%20Luci%C3%A9rnaga/C%C3%B3digos/Plot_Surf.py'\n",
        "\n",
        "import matplotlib.pyplot as plt\n",
        "import numpy as np\n",
        "from Plot_Surf import *\n",
        "from Plot_Contour import *\n",
        "from IPython import display\n",
        "import math"
      ]
    },
    {
      "cell_type": "markdown",
      "source": [
        "Función objetivo"
      ],
      "metadata": {
        "id": "LAMRhR-qdfv-"
      }
    },
    {
      "cell_type": "code",
      "source": [
        "f = lambda x, y: (x-2)**2 + (y-2)**2\n",
        "#f = lambda x, y: 10*2 + x**2 + y**2 - 10*np.cos(2*np.pi*x) - 10*np.cos(2*np.pi*y)"
      ],
      "metadata": {
        "id": "sNhGnblcdhnW"
      },
      "execution_count": 2,
      "outputs": []
    },
    {
      "cell_type": "markdown",
      "source": [
        "Parámetros"
      ],
      "metadata": {
        "id": "2jkccJiRdkgO"
      }
    },
    {
      "cell_type": "code",
      "source": [
        "xl = np.array([-5, -5])\n",
        "xu = np.array([5, 5])\n",
        "\n",
        "D = 2\n",
        "G = 30\n",
        "N = 50\n",
        "\n",
        "beta0 = 0.5 # 0.1, 0.6\n",
        "gamma = 0.6 # 0.1, 0.8\n",
        "\n",
        "alpha = 2.5 # 0.5, 1.5\n",
        "delta = 0.95 # 0.01, 0.95\n",
        "\n",
        "x = np.zeros((D, N))\n",
        "I = np.zeros(N)"
      ],
      "metadata": {
        "id": "xwk1f4jpdlZ2"
      },
      "execution_count": 10,
      "outputs": []
    },
    {
      "cell_type": "markdown",
      "source": [
        "# FA"
      ],
      "metadata": {
        "id": "w9iESbvwduQ-"
      }
    },
    {
      "cell_type": "code",
      "source": [
        "for i in range(N):\n",
        "    x[:, i] = xl + (xu - xl) * np.random.rand(D)\n",
        "    I[i] = f(x[0, i], x[1, i])\n",
        "\n",
        "fx_plot = np.zeros(G)\n",
        "\n",
        "for g in range(G):\n",
        "    display.display(plt.gcf())\n",
        "    display.clear_output(wait=True)\n",
        "    plot_contour(f, x, xl, xu)\n",
        "\n",
        "    for i in range(N):\n",
        "        for j in range(N):\n",
        "            if I[j] < I[i]:\n",
        "                rij = np.linalg.norm(x[:, i] - x[:, j])\n",
        "                r = np.random.rand(D)\n",
        "\n",
        "                x[:, i] = x[:, i] + beta0 * np.exp(-gamma * (rij ** 2)) * (x[:, j] - x[:, i]) + alpha * (r - 0.5)\n",
        "\n",
        "                I[i] = f(x[0, i], x[1, i])\n",
        "\n",
        "    alpha = delta * alpha\n",
        "    fx_plot[g] = np.min(I)\n",
        "\n",
        "\n",
        "igb = np.argmin(I)\n",
        "\n",
        "print(\"Mínimo global en x=\", x[0, igb], \" y=\", x[1, igb], \" f(x,y)=\", f(x[0, igb], x[1, igb]))\n",
        "plot_surf(f, x, xl, xu, igb)\n",
        "plt.plot(fx_plot)"
      ],
      "metadata": {
        "id": "dfmh4ek9dvn2"
      },
      "execution_count": null,
      "outputs": []
    }
  ]
}