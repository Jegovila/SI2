{
  "nbformat": 4,
  "nbformat_minor": 0,
  "metadata": {
    "colab": {
      "provenance": [],
      "include_colab_link": true
    },
    "kernelspec": {
      "name": "python3",
      "display_name": "Python 3"
    },
    "language_info": {
      "name": "python"
    }
  },
  "cells": [
    {
      "cell_type": "markdown",
      "metadata": {
        "id": "view-in-github",
        "colab_type": "text"
      },
      "source": [
        "<a href=\"https://colab.research.google.com/github/Jegovila/SSPIA1/blob/main/9%20Funciones%20de%20penalizaci%C3%B3n/C%C3%B3digos/Penalizaci%C3%B3n/Funciones_de_penalizaci%C3%B3n.ipynb\" target=\"_parent\"><img src=\"https://colab.research.google.com/assets/colab-badge.svg\" alt=\"Open In Colab\"/></a>"
      ]
    },
    {
      "cell_type": "code",
      "execution_count": null,
      "metadata": {
        "id": "pUvr1_qewObR"
      },
      "outputs": [],
      "source": [
        "!wget -nc 'https://raw.githubusercontent.com/Jegovila/SSPIA1/main/9%20Funciones%20de%20penalizaci%C3%B3n/C%C3%B3digos/Plot_Contour.py'\n",
        "!wget -nc 'https://raw.githubusercontent.com/Jegovila/SSPIA1/main/9%20Funciones%20de%20penalizaci%C3%B3n/C%C3%B3digos/Plot_Surf.py'\n",
        "\n",
        "import matplotlib.pyplot as plt\n",
        "import numpy as np\n",
        "from Plot_Surf import *\n",
        "from Plot_Contour import *\n",
        "from IPython import display"
      ]
    },
    {
      "cell_type": "markdown",
      "source": [
        "Penalización"
      ],
      "metadata": {
        "id": "6N8J8YD6w8R_"
      }
    },
    {
      "cell_type": "code",
      "source": [
        "def Penalty(x, xl, xu):\n",
        "    D = x.size\n",
        "    z = 0\n",
        "\n",
        "    for j in range(D):\n",
        "        if x[j] < xl[j]:\n",
        "            z = z + 1\n",
        "        elif x[j] > xu[j]:\n",
        "            z = z + 1\n",
        "        else:\n",
        "            z = z + 0\n",
        "\n",
        "    # for j in range(D):\n",
        "    #     if x[j] < xl[j]:\n",
        "    #         z = z + (x[j]-xl[j]) ** 2\n",
        "    #     elif x[j] > xu[j]:\n",
        "    #         z = z + (x[j] - xu[j]) ** 2\n",
        "    #     else:\n",
        "    #         z = z + 0\n",
        "\n",
        "    return z"
      ],
      "metadata": {
        "id": "nGzf-ZHCw9OW"
      },
      "execution_count": 8,
      "outputs": []
    },
    {
      "cell_type": "markdown",
      "source": [
        "Función objetivo"
      ],
      "metadata": {
        "id": "aQaiNQT0xBum"
      }
    },
    {
      "cell_type": "code",
      "source": [
        "f = lambda x, y: np.sin(x+y) + (x-y) ** 2 - 1.5 * x + 2.5 * y+1 # McCormick Function\n",
        "fp = lambda x, xl, xu: f(x[0], x[1]) + 1000 * Penalty(x, xl, xu);"
      ],
      "metadata": {
        "id": "aeacaPxZxDC-"
      },
      "execution_count": 2,
      "outputs": []
    },
    {
      "cell_type": "markdown",
      "source": [
        "Parámetros"
      ],
      "metadata": {
        "id": "tjeSBl25xEvP"
      }
    },
    {
      "cell_type": "code",
      "source": [
        "xl = np.array([-1.5, -3])\n",
        "xu = np.array([4, 4])\n",
        "\n",
        "\n",
        "G = 50\n",
        "N = 50\n",
        "D = 2\n",
        "\n",
        "F = 0.6\n",
        "CR = 0.9\n",
        "\n",
        "x = np.zeros((D, N))\n",
        "fitness = np.zeros(N)"
      ],
      "metadata": {
        "id": "To4wO-lmxGeu"
      },
      "execution_count": 6,
      "outputs": []
    },
    {
      "cell_type": "markdown",
      "source": [
        "# DE"
      ],
      "metadata": {
        "id": "1szZTzrCyIk-"
      }
    },
    {
      "cell_type": "markdown",
      "source": [
        "En la etapa de selección, cambiar la función objetivo si se quiere con o sin penalización"
      ],
      "metadata": {
        "id": "8PmdRvm7BY3_"
      }
    },
    {
      "cell_type": "code",
      "source": [
        "for i in range(N):\n",
        "    x[:, i] = xl + (xu - xl) * np.random.rand(D)\n",
        "    fitness[i] = f(x[0, i], x[1, i])\n",
        "\n",
        "fx_plot = np.zeros(G)\n",
        "\n",
        "for n in range(G):\n",
        "    display.display(plt.gcf())\n",
        "    display.clear_output(wait=True)\n",
        "    plot_contour(f, x, xl, xu)\n",
        "\n",
        "    for i in range(N):\n",
        "        # Mutación\n",
        "        r1 = i\n",
        "        while r1 == i:\n",
        "            r1 = np.random.randint(N)\n",
        "\n",
        "        r2 = r1\n",
        "        while r2 == r1 or r2 == i:\n",
        "            r2 = np.random.randint(N)\n",
        "\n",
        "        r3 = r2\n",
        "        while r3 == r2 or r3 == r1 or r3 == i:\n",
        "            r3 = np.random.randint(N)\n",
        "\n",
        "        v = x[:, r1] + F * (x[:, r2] - x[:, r3])\n",
        "\n",
        "        # Recombinación\n",
        "        u = np.zeros(D)\n",
        "\n",
        "        for j in range(D):\n",
        "            r = np.random.rand()\n",
        "\n",
        "            if r <= CR:\n",
        "                u[j] = v[j]\n",
        "            else:\n",
        "                u[j] = x[j, i]\n",
        "\n",
        "        # Selección\n",
        "\n",
        "        ## ------- Tercer método\n",
        "        # for j in range(D):\n",
        "        #   if xu[j] > u[j] > xl[j]:\n",
        "        #       pass\n",
        "        #   else:\n",
        "        #       u[j] = xl[j] + (xu[j] - xl[j]) * np.random.rand()\n",
        "\n",
        "\n",
        "        ## ---------- SIN PENALIZAR--------------- ##\n",
        "        fitness_u = f(u[0], u[1])\n",
        "        ## ---------- CON PENALIZACIÓN--------------- ##\n",
        "        #fitness_u = fp(u, xl, xu)\n",
        "\n",
        "        if fitness_u < fitness[i]:\n",
        "            x[:,i] = u\n",
        "            fitness[i] = fitness_u\n",
        "\n",
        "    fx_plot[n] = np.min(fitness)\n",
        "\n",
        "igb = np.argmin(fitness)\n",
        "\n",
        "print(\"Mínimo global en x=\", x[0, igb], \" y=\", x[1, igb], \" f(x,y)=\", f(x[0, igb], x[1, igb]))\n",
        "plot_surf(f, x, xl, xu, igb)"
      ],
      "metadata": {
        "id": "5qus38yHyKqu"
      },
      "execution_count": null,
      "outputs": []
    }
  ]
}