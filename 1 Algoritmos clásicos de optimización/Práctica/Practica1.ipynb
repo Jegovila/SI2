{
  "nbformat": 4,
  "nbformat_minor": 0,
  "metadata": {
    "colab": {
      "provenance": [],
      "authorship_tag": "ABX9TyO/UBJawoH+wshlgpVz/6DV",
      "include_colab_link": true
    },
    "kernelspec": {
      "name": "python3",
      "display_name": "Python 3"
    },
    "language_info": {
      "name": "python"
    }
  },
  "cells": [
    {
      "cell_type": "markdown",
      "metadata": {
        "id": "view-in-github",
        "colab_type": "text"
      },
      "source": [
        "<a href=\"https://colab.research.google.com/github/Jegovila/Computo-Evolutivo/blob/main/1%20Algoritmos%20cl%C3%A1sicos%20de%20optimizaci%C3%B3n/Pr%C3%A1ctica/Practica1.ipynb\" target=\"_parent\"><img src=\"https://colab.research.google.com/assets/colab-badge.svg\" alt=\"Open In Colab\"/></a>"
      ]
    },
    {
      "cell_type": "markdown",
      "source": [
        "## **Práctica 1**"
      ],
      "metadata": {
        "id": "FLNLhsBOSdMN"
      }
    },
    {
      "cell_type": "markdown",
      "source": [
        "# Parte 1"
      ],
      "metadata": {
        "id": "cEqP4oVzW0K_"
      }
    },
    {
      "cell_type": "markdown",
      "source": [
        "Graficar únicamente la función"
      ],
      "metadata": {
        "id": "9Z5Uo1rgYuOa"
      }
    },
    {
      "cell_type": "code",
      "source": [
        "import numpy as np\n",
        "import matplotlib.pyplot as plt\n",
        "\n",
        "L = 20\n",
        "f = lambda l: 4*(l**3) - 4*L*(l**2) + l*(L**2)\n",
        "\n",
        "\n",
        "X = np.arange(0, 10, 0.25)\n",
        "\n",
        "plt.plot(X, f(X), label=\"f(l)\")\n",
        "\n",
        "plt.title(\"Gráfica\")\n",
        "plt.xlabel('l')\n",
        "plt.ylabel('f(l)')\n",
        "\n",
        "plt.legend()\n",
        "plt.show()"
      ],
      "metadata": {
        "id": "I8gTkmmuYrVw"
      },
      "execution_count": null,
      "outputs": []
    },
    {
      "cell_type": "markdown",
      "source": [
        "Graficar la función, sus derivadas y el valor óptimo"
      ],
      "metadata": {
        "id": "fCPYTJ6yYw0O"
      }
    },
    {
      "cell_type": "code",
      "source": [
        "import numpy as np\n",
        "import matplotlib.pyplot as plt\n",
        "\n",
        "L = 20\n",
        "f = lambda l: 4*(l**3) - 4*L*(l**2) + l*(L**2)\n",
        "fp = lambda l: 12*(l**2) - 8*L*l + L**2\n",
        "fpp = lambda l: 24*l - 8*L\n",
        "\n",
        "xi = 5\n",
        "\n",
        "for i in range(10):\n",
        "    xi = xi - (fp(xi) / fpp(xi))\n",
        "\n",
        "if fpp(xi) > 0:\n",
        "    print(\"Mínimo en x=\", xi, \" f(l): \", f(xi))\n",
        "else:\n",
        "    print(\"Máximo en x=\", xi, \" f(l): \", f(xi))\n",
        "\n",
        "X = np.arange(0, 10, 0.25)\n",
        "\n",
        "plt.plot(X, f(X), label=\"f(l)\")\n",
        "plt.plot(X, fp(X), label=\"fp(l)\")\n",
        "plt.plot(X, fpp(X), label=\"fpp(l)\")\n",
        "\n",
        "plt.plot(xi, f(xi), label=\"xi\")\n",
        "plt.scatter(xi, f(xi), c='r', label='Óptimo', s=120)\n",
        "\n",
        "plt.legend()\n",
        "plt.show()\n"
      ],
      "metadata": {
        "id": "u3NoBYf5W3PG"
      },
      "execution_count": null,
      "outputs": []
    },
    {
      "cell_type": "markdown",
      "source": [
        "# Parte 2"
      ],
      "metadata": {
        "id": "R8w45mbMWxv9"
      }
    },
    {
      "cell_type": "code",
      "execution_count": null,
      "metadata": {
        "id": "9duQuPv4SSn1"
      },
      "outputs": [],
      "source": [
        "import numpy as np\n",
        "\n",
        "def F(x, y):\n",
        "    return x * np.exp(-x**2 - y**2)\n",
        "def G(x, y):\n",
        "    return np.array([(1 - 2*(x**2))*np.exp(-x**2-y**2), - 2*x*y*np.exp(-x**2-y**2)])\n",
        "\n",
        "xl = [-3, -3]\n",
        "xu = [3, 3]\n",
        "xi = [-1, 1]\n",
        "\n",
        "h = .1\n",
        "for i in range(50):\n",
        "    xi = xi - h * G(xi[0], xi[1])\n",
        "\n",
        "print(\"Mínimo global en:\", xi)\n",
        "print(\"F(x,y) = \", F(xi[0], xi[1]))"
      ]
    }
  ]
}