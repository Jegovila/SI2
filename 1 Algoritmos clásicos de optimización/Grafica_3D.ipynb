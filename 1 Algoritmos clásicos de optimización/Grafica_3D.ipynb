{
  "nbformat": 4,
  "nbformat_minor": 0,
  "metadata": {
    "colab": {
      "provenance": [],
      "collapsed_sections": [
        "92oZawglBMR6",
        "2dieUx9RBl7P"
      ],
      "authorship_tag": "ABX9TyOlY3I9nuqr4VDo68JXUtRo",
      "include_colab_link": true
    },
    "kernelspec": {
      "name": "python3",
      "display_name": "Python 3"
    },
    "language_info": {
      "name": "python"
    }
  },
  "cells": [
    {
      "cell_type": "markdown",
      "metadata": {
        "id": "view-in-github",
        "colab_type": "text"
      },
      "source": [
        "<a href=\"https://colab.research.google.com/github/Jegovila/Computo-Evolutivo/blob/main/1%20Algoritmos%20cl%C3%A1sicos%20de%20optimizaci%C3%B3n/Grafica_3D.ipynb\" target=\"_parent\"><img src=\"https://colab.research.google.com/assets/colab-badge.svg\" alt=\"Open In Colab\"/></a>"
      ]
    },
    {
      "cell_type": "markdown",
      "source": [
        "## **Grafica_3D**"
      ],
      "metadata": {
        "id": "DvPZp0dzA3De"
      }
    },
    {
      "cell_type": "code",
      "execution_count": null,
      "metadata": {
        "id": "tTFv85wJA0_2"
      },
      "outputs": [],
      "source": [
        "import matplotlib.pyplot as plt\n",
        "from matplotlib import cm\n",
        "from matplotlib.ticker import LinearLocator\n",
        "import numpy as np"
      ]
    },
    {
      "cell_type": "markdown",
      "source": [
        "Función objetivo"
      ],
      "metadata": {
        "id": "rru6sdxKA9aE"
      }
    },
    {
      "cell_type": "code",
      "source": [
        "def Z(x, y):\n",
        "   return (x-2)**2 + (y-2)**2"
      ],
      "metadata": {
        "id": "XXyG5wHyA-5W"
      },
      "execution_count": null,
      "outputs": []
    },
    {
      "cell_type": "markdown",
      "source": [
        "Dimensiones de la gráfica"
      ],
      "metadata": {
        "id": "80LdWdrPBBEU"
      }
    },
    {
      "cell_type": "code",
      "source": [
        "X = np.arange(-5, 5, 0.25)\n",
        "Y = np.arange(-5, 5, 0.25)\n",
        "X, Y = np.meshgrid(X, Y)\n",
        "\n",
        "# Coordenadas del punto a graficar\n",
        "x = -2\n",
        "y = -2"
      ],
      "metadata": {
        "id": "d4tbKOTaBE_b"
      },
      "execution_count": null,
      "outputs": []
    },
    {
      "cell_type": "markdown",
      "source": [
        "# Superficie"
      ],
      "metadata": {
        "id": "92oZawglBMR6"
      }
    },
    {
      "cell_type": "code",
      "source": [
        "fig = plt.figure()\n",
        "ax = fig.add_subplot(111, projection='3d')\n",
        "surf = ax.plot_surface(X, Y, Z(X,Y), cmap=cm.coolwarm, alpha=0.8, linewidth=0)\n",
        "ax.set_title('Surf')\n",
        "ax.set_xlabel('x')\n",
        "ax.set_ylabel('y')\n",
        "ax.set_zlabel('z')\n",
        "\n",
        "# Graficar punto\n",
        "ax.scatter(x, y, Z(x, y), c='r', label='P', s=120)"
      ],
      "metadata": {
        "id": "qbhqXBwNBLIx"
      },
      "execution_count": null,
      "outputs": []
    },
    {
      "cell_type": "markdown",
      "source": [
        "# Contorno"
      ],
      "metadata": {
        "id": "2dieUx9RBl7P"
      }
    },
    {
      "cell_type": "code",
      "source": [
        "plt.figure()\n",
        "plt.contourf(X, Y, Z(X,Y))\n",
        "plt.colorbar()\n",
        "\n",
        "plt.title(\"Contour\")\n",
        "plt.xlabel('x')\n",
        "plt.ylabel('y')\n",
        "\n",
        "plt.plot(x, y, marker=\"o\", c='r', markersize=10)"
      ],
      "metadata": {
        "id": "rnKOLWKUBUXE"
      },
      "execution_count": null,
      "outputs": []
    }
  ]
}