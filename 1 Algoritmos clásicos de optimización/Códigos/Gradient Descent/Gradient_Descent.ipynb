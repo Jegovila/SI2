{
  "nbformat": 4,
  "nbformat_minor": 0,
  "metadata": {
    "colab": {
      "provenance": [],
      "authorship_tag": "ABX9TyM+IxWAY56xCC+0zRpowwny",
      "include_colab_link": true
    },
    "kernelspec": {
      "name": "python3",
      "display_name": "Python 3"
    },
    "language_info": {
      "name": "python"
    }
  },
  "cells": [
    {
      "cell_type": "markdown",
      "metadata": {
        "id": "view-in-github",
        "colab_type": "text"
      },
      "source": [
        "<a href=\"https://colab.research.google.com/github/Jegovila/Computo-Evolutivo/blob/main/1%20Algoritmos%20cl%C3%A1sicos%20de%20optimizaci%C3%B3n/C%C3%B3digos/Gradient%20Descent/Gradient_Descent.ipynb\" target=\"_parent\"><img src=\"https://colab.research.google.com/assets/colab-badge.svg\" alt=\"Open In Colab\"/></a>"
      ]
    },
    {
      "cell_type": "markdown",
      "source": [
        "## Gradient **Descent**"
      ],
      "metadata": {
        "id": "uZlRexX-ICqa"
      }
    },
    {
      "cell_type": "code",
      "source": [
        "import matplotlib.pyplot as plt\n",
        "from matplotlib import cm\n",
        "import numpy as np\n",
        "\n",
        "from IPython import display\n",
        "from time import sleep"
      ],
      "metadata": {
        "id": "9cartD2XIJNg"
      },
      "execution_count": 31,
      "outputs": []
    },
    {
      "cell_type": "markdown",
      "source": [
        "# **Plot Contour**"
      ],
      "metadata": {
        "id": "Zq1GV4NuK67q"
      }
    },
    {
      "cell_type": "code",
      "execution_count": 21,
      "metadata": {
        "id": "8pyO-V0vH943"
      },
      "outputs": [],
      "source": [
        "def plot_contour(f,x,xl,xu):\n",
        "    plt.clf()\n",
        "    X = np.arange(xl[0], xu[0], 0.25)\n",
        "    Y = np.arange(xl[1], xu[1], 0.25)\n",
        "    X, Y = np.meshgrid(X, Y)\n",
        "\n",
        "    #plt.figure()\n",
        "    plt.contourf(X, Y, f(X,Y))\n",
        "    # plt.contour(X, Y, Z(X,Y))\n",
        "    # plt.colorbar()\n",
        "\n",
        "    plt.title(\"Contour\")\n",
        "    plt.xlabel('x')\n",
        "    plt.ylabel('y')\n",
        "\n",
        "    plt.plot(x[0], x[1], marker=\"o\", c='r', markersize=10, label='Óptimo')\n",
        "    plt.legend()\n",
        "\n",
        "    plt.show(block=False)\n",
        "    plt.pause(.05)\n"
      ]
    },
    {
      "cell_type": "markdown",
      "source": [
        "# **Plot Surf**"
      ],
      "metadata": {
        "id": "3qTGpNT0LIKB"
      }
    },
    {
      "cell_type": "code",
      "source": [
        "def plot_surf(f,x,xl,xu):\n",
        "    plt.clf()\n",
        "    X = np.arange(xl[0], xu[0], 0.25)\n",
        "    Y = np.arange(xl[1], xu[1], 0.25)\n",
        "    X, Y = np.meshgrid(X, Y)\n",
        "    Z = f(X, Y)\n",
        "\n",
        "    # SURFACE\n",
        "    fig = plt.figure()\n",
        "    ax = fig.add_subplot(111, projection='3d')\n",
        "    surf = ax.plot_surface(X, Y, Z, cmap=cm.coolwarm, alpha=0.8, linewidth=0)\n",
        "    ax.set_title('Surf')\n",
        "    ax.set_xlabel('x')\n",
        "    ax.set_ylabel('y')\n",
        "    ax.set_zlabel('z')\n",
        "\n",
        "    ax.scatter(x[0], x[1], f(x[0],x[1]), c='r', label='Óptimo', s=120)\n",
        "    ax.legend()\n",
        "\n",
        "    plt.show()"
      ],
      "metadata": {
        "id": "fCtcJwcwLKsI"
      },
      "execution_count": 23,
      "outputs": []
    },
    {
      "cell_type": "markdown",
      "source": [
        "# **Gradient Descent**"
      ],
      "metadata": {
        "id": "eV-2wj7KLWL_"
      }
    },
    {
      "cell_type": "markdown",
      "source": [
        "Funciones objetivo"
      ],
      "metadata": {
        "id": "rGoQvPMUNnVf"
      }
    },
    {
      "cell_type": "code",
      "source": [
        "def F(x, y):\n",
        "    return x * np.exp(-x**2 - y**2)\n",
        "def G(x, y):\n",
        "    return np.array([(1 - 2*(x**2))*np.exp(-x**2-y**2), - 2*x*y*np.exp(-x**2-y**2)])"
      ],
      "metadata": {
        "id": "o5Mx6_shLben"
      },
      "execution_count": 36,
      "outputs": []
    },
    {
      "cell_type": "markdown",
      "source": [
        "Límites de la gráfica"
      ],
      "metadata": {
        "id": "-PhnvgxiNtJt"
      }
    },
    {
      "cell_type": "code",
      "source": [
        "xl = [-3, -3]\n",
        "xu = [3, 3]\n",
        "xi = [-1, 1]"
      ],
      "metadata": {
        "id": "r7ZZ-vzDNvoq"
      },
      "execution_count": 37,
      "outputs": []
    },
    {
      "cell_type": "markdown",
      "source": [
        "Gradiente descendente"
      ],
      "metadata": {
        "id": "t2UPLbG8N4hs"
      }
    },
    {
      "cell_type": "code",
      "source": [
        "h = .1\n",
        "for i in range(50):\n",
        "    # Las funciones de display nos ayudan a no estar generando\n",
        "    # múltiples imágenes.\n",
        "    display.display(plt.gcf())\n",
        "    display.clear_output(wait=True)\n",
        "\n",
        "    plot_contour(F, xi, xl, xu)\n",
        "    xi = xi - h * G(xi[0], xi[1])\n",
        "    #sleep(0.05)\n",
        "\n",
        "plot_surf(F, xi, xl, xu)\n",
        "print(\"Mínimo global en:\", xi)"
      ],
      "metadata": {
        "id": "vYUGgGMgN6c5"
      },
      "execution_count": null,
      "outputs": []
    }
  ]
}