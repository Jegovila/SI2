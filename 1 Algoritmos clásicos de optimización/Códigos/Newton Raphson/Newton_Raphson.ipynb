{
  "nbformat": 4,
  "nbformat_minor": 0,
  "metadata": {
    "colab": {
      "provenance": [],
      "authorship_tag": "ABX9TyNZd1Xb0zxqSIQhwkXV5TgF",
      "include_colab_link": true
    },
    "kernelspec": {
      "name": "python3",
      "display_name": "Python 3"
    },
    "language_info": {
      "name": "python"
    }
  },
  "cells": [
    {
      "cell_type": "markdown",
      "metadata": {
        "id": "view-in-github",
        "colab_type": "text"
      },
      "source": [
        "<a href=\"https://colab.research.google.com/github/Jegovila/Computo-Evolutivo/blob/main/1%20Algoritmos%20cl%C3%A1sicos%20de%20optimizaci%C3%B3n/C%C3%B3digos/Newton%20Raphson/Newton_Raphson.ipynb\" target=\"_parent\"><img src=\"https://colab.research.google.com/assets/colab-badge.svg\" alt=\"Open In Colab\"/></a>"
      ]
    },
    {
      "cell_type": "markdown",
      "source": [
        "## Newton Raphson"
      ],
      "metadata": {
        "id": "uZlRexX-ICqa"
      }
    },
    {
      "cell_type": "code",
      "source": [
        "import matplotlib.pyplot as plt\n",
        "from matplotlib import cm\n",
        "import numpy as np\n",
        "\n",
        "from IPython import display\n",
        "from time import sleep"
      ],
      "metadata": {
        "id": "9cartD2XIJNg"
      },
      "execution_count": 1,
      "outputs": []
    },
    {
      "cell_type": "markdown",
      "source": [
        "# **Plot 2D**"
      ],
      "metadata": {
        "id": "Zq1GV4NuK67q"
      }
    },
    {
      "cell_type": "code",
      "execution_count": 11,
      "metadata": {
        "id": "8pyO-V0vH943"
      },
      "outputs": [],
      "source": [
        "def plot_2d(f,x,xl,xu):\n",
        "    plt.clf()\n",
        "    X = np.arange(xl, xu, 0.25)\n",
        "    Y = f(X)\n",
        "\n",
        "    plt.plot(X,Y)\n",
        "    plt.plot(x, f(x), marker=\"o\", c='r', markersize=10)\n",
        "\n",
        "    plt.title(\"Plot\")\n",
        "    plt.xlabel('x')\n",
        "    plt.ylabel('f(x)')\n",
        "\n",
        "    plt.show(block=False)\n",
        "    plt.pause(.05)"
      ]
    },
    {
      "cell_type": "markdown",
      "source": [
        "# **Newton**"
      ],
      "metadata": {
        "id": "Io9Z8yl7Q6Tp"
      }
    },
    {
      "cell_type": "markdown",
      "source": [
        "Función y sus derivadas"
      ],
      "metadata": {
        "id": "TLOD09lhQ-pR"
      }
    },
    {
      "cell_type": "code",
      "source": [
        "f = lambda x: x**4 + 5*(x**3) + 4*(x**2) - 4*x +1\n",
        "fp = lambda x: 4*(x**3) + 15*(x**2) + 8*x - 4\n",
        "fpp = lambda x: 12*(x**2) + 30*x +8"
      ],
      "metadata": {
        "id": "_Zk_TXyIQ5wD"
      },
      "execution_count": 12,
      "outputs": []
    },
    {
      "cell_type": "markdown",
      "source": [
        "Límites de la gráfica"
      ],
      "metadata": {
        "id": "UxlrCobtRIbN"
      }
    },
    {
      "cell_type": "code",
      "source": [
        "xl = -4\n",
        "xu = 1\n",
        "xi = -2.5"
      ],
      "metadata": {
        "id": "53nGorrORKMv"
      },
      "execution_count": 18,
      "outputs": []
    },
    {
      "cell_type": "code",
      "source": [
        "for i in range(20):\n",
        "    display.display(plt.gcf())\n",
        "    display.clear_output(wait=True)\n",
        "\n",
        "    plot_2d(f,xi,xl,xu)\n",
        "    xi = xi - (fp(xi) / fpp(xi))\n",
        "\n",
        "if fpp(xi) >= 0:\n",
        "    print(\"Mínimo en x= \", xi, \" f(x)= \", f(xi))\n",
        "else:\n",
        "    print(\"Máximo en x= \", xi, \" f(x)= \", f(xi))"
      ],
      "metadata": {
        "id": "jJPzofKlRPsf"
      },
      "execution_count": null,
      "outputs": []
    },
    {
      "cell_type": "markdown",
      "source": [
        "# **Newton Raphson**"
      ],
      "metadata": {
        "id": "eV-2wj7KLWL_"
      }
    },
    {
      "cell_type": "markdown",
      "source": [
        "Función y su derivada"
      ],
      "metadata": {
        "id": "rGoQvPMUNnVf"
      }
    },
    {
      "cell_type": "code",
      "source": [
        "def f(x):\n",
        "    return np.sin(2*x)\n",
        "def fp(x):\n",
        "    return 2 * np.cos(2*x)"
      ],
      "metadata": {
        "id": "o5Mx6_shLben"
      },
      "execution_count": 20,
      "outputs": []
    },
    {
      "cell_type": "markdown",
      "source": [
        "Límites de la gráfica"
      ],
      "metadata": {
        "id": "-PhnvgxiNtJt"
      }
    },
    {
      "cell_type": "code",
      "source": [
        "xl = -3.3\n",
        "xu = 4\n",
        "xi = 2.1"
      ],
      "metadata": {
        "id": "r7ZZ-vzDNvoq"
      },
      "execution_count": 21,
      "outputs": []
    },
    {
      "cell_type": "markdown",
      "source": [
        "Gradiente descendente"
      ],
      "metadata": {
        "id": "t2UPLbG8N4hs"
      }
    },
    {
      "cell_type": "code",
      "source": [
        "for i in range(20):\n",
        "    display.display(plt.gcf())\n",
        "    display.clear_output(wait=True)\n",
        "\n",
        "    plot_2d(f,xi,xl,xu)\n",
        "    xi = xi - (f(xi) / fp(xi))\n",
        "\n",
        "print(\"cero en: x= \", xi)"
      ],
      "metadata": {
        "id": "vYUGgGMgN6c5"
      },
      "execution_count": null,
      "outputs": []
    }
  ]
}