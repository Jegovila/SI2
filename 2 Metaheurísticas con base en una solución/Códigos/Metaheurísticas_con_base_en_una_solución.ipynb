{
  "cells": [
    {
      "cell_type": "markdown",
      "metadata": {
        "colab_type": "text",
        "id": "view-in-github"
      },
      "source": [
        "<a href=\"https://colab.research.google.com/github/Jegovila/SSPIA1/blob/main/2%20Metaheur%C3%ADsticas%20con%20base%20en%20una%20soluci%C3%B3n/C%C3%B3digos/Metaheur%C3%ADsticas_con_base_en_una_soluci%C3%B3n.ipynb\" target=\"_parent\"><img src=\"https://colab.research.google.com/assets/colab-badge.svg\" alt=\"Open In Colab\"/></a>"
      ]
    },
    {
      "cell_type": "code",
      "execution_count": null,
      "metadata": {
        "id": "KlldACXVJugq"
      },
      "outputs": [],
      "source": [
        "!wget -nc https://raw.githubusercontent.com/Jegovila/SI2/main/2%20Metaheur%C3%ADsticas%20con%20base%20en%20una%20soluci%C3%B3n/C%C3%B3digos/Plot_Surf.py\n",
        "!wget -nc https://raw.githubusercontent.com/Jegovila/SI2/main/2%20Metaheur%C3%ADsticas%20con%20base%20en%20una%20soluci%C3%B3n/C%C3%B3digos/Plot_Contour.py\n",
        "\n",
        "import matplotlib.pyplot as plt\n",
        "import numpy as np\n",
        "from Plot_Surf import *\n",
        "from Plot_Contour import *\n",
        "from IPython import display"
      ]
    },
    {
      "cell_type": "markdown",
      "metadata": {
        "id": "cZB3K2PJQZo3"
      },
      "source": [
        "Parámetros"
      ]
    },
    {
      "cell_type": "code",
      "execution_count": 2,
      "metadata": {
        "id": "h7QEgrSJQekG"
      },
      "outputs": [],
      "source": [
        "f = lambda x, y: (x-2)**2 + (y-2)**2\n",
        "\n",
        "xl = np.array([-5, -5])\n",
        "xu = np.array([5, 5])\n",
        "\n",
        "G = 500\n",
        "f_plot = np.zeros(G)\n",
        "mu, sigma = 0, 0.2 # ES\n"
      ]
    },
    {
      "cell_type": "markdown",
      "metadata": {
        "id": "_jBqdNeKQibH"
      },
      "source": [
        "# Random Search"
      ]
    },
    {
      "cell_type": "code",
      "execution_count": null,
      "metadata": {
        "id": "CWQcNQo4QmaW"
      },
      "outputs": [],
      "source": [
        "x = np.array([4, 4])\n",
        "\n",
        "for i in range(G):\n",
        "    y = xl + (xu-xl) * np.random.random(2)\n",
        "\n",
        "    display.display(plt.gcf())\n",
        "    display.clear_output(wait=True)\n",
        "    plot_contour(f, x, y, xl, xu)\n",
        "\n",
        "    if f(y[0], y[1]) < f(x[0], x[1]):\n",
        "        x = y\n",
        "\n",
        "\n",
        "\n",
        "    f_plot[i] = f(x[0], x[1])\n",
        "\n",
        "plot_surf(f,x,xl,xu)\n",
        "print(\"Mínimo global en x=\", x[0], \" y=\", x[1], \" f(x,y)=\", f(x[0],x[1]))\n",
        "\n",
        "plt.plot(range(G), f_plot)\n",
        "plt.title(\"Convergencia\")"
      ]
    },
    {
      "cell_type": "markdown",
      "metadata": {
        "id": "KlUPKdKHQxDQ"
      },
      "source": [
        "# ES"
      ]
    },
    {
      "cell_type": "code",
      "execution_count": null,
      "metadata": {
        "id": "EfoabZ34Q7h-"
      },
      "outputs": [],
      "source": [
        "x = xl + (xu-xl) * np.random.random(2)\n",
        "f_plot = np.zeros(G)\n",
        "\n",
        "for i in range(G):\n",
        "    r = np.random.normal(mu, sigma, 2)\n",
        "    y = x + r\n",
        "\n",
        "    if f(y[0], y[1]) < f(x[0], x[1]):\n",
        "        x = y\n",
        "\n",
        "    #display.display(plt.gcf())\n",
        "    #display.clear_output(wait=True)\n",
        "    #plot_contour(f, x, y, xl, xu)\n",
        "    f_plot[i] = f(x[0], x[1])\n",
        "\n",
        "plot_surf(f,x,xl,xu)\n",
        "print(\"Mínimo global en x=\", x[0], \" y=\", x[1], \" f(x,y)=\", f(x[0],x[1]))\n",
        "\n",
        "plt.plot(range(G), f_plot)\n",
        "plt.title(\"Convergencia\")"
      ]
    },
    {
      "cell_type": "markdown",
      "metadata": {
        "id": "rXUyPi9jRC3W"
      },
      "source": [
        "# Hill Climbing Random Mutation"
      ]
    },
    {
      "cell_type": "code",
      "execution_count": null,
      "metadata": {
        "id": "qZgAE7kTRFUO"
      },
      "outputs": [],
      "source": [
        "x = xl + (xu-xl) * np.random.random(2)\n",
        "f_plot = np.zeros(G)\n",
        "\n",
        "for i in range(G):\n",
        "    y = x.copy()\n",
        "    j = np.random.randint(2)\n",
        "    y[j] = xl[j] + (xu[j] - xl[j]) * np.random.random()\n",
        "\n",
        "    if f(y[0], y[1]) < f(x[0], x[1]):\n",
        "        x = y\n",
        "\n",
        "    #display.display(plt.gcf())\n",
        "    #display.clear_output(wait=True)\n",
        "    #plot_contour(f, x, y, xl, xu)\n",
        "    f_plot[i] = f(x[0], x[1])\n",
        "\n",
        "plot_surf(f,x,xl,xu)\n",
        "print(\"Mínimo global en x=\", x[0], \" y=\", x[1], \" f(x,y)=\", f(x[0],x[1]))\n",
        "\n",
        "plt.plot(range(G), f_plot)\n",
        "plt.title(\"Convergencia\")"
      ]
    }
  ],
  "metadata": {
    "colab": {
      "include_colab_link": true,
      "provenance": []
    },
    "kernelspec": {
      "display_name": "Python 3",
      "name": "python3"
    },
    "language_info": {
      "name": "python"
    }
  },
  "nbformat": 4,
  "nbformat_minor": 0
}
