{
  "nbformat": 4,
  "nbformat_minor": 0,
  "metadata": {
    "colab": {
      "provenance": [],
      "include_colab_link": true
    },
    "kernelspec": {
      "name": "python3",
      "display_name": "Python 3"
    },
    "language_info": {
      "name": "python"
    }
  },
  "cells": [
    {
      "cell_type": "markdown",
      "metadata": {
        "id": "view-in-github",
        "colab_type": "text"
      },
      "source": [
        "<a href=\"https://colab.research.google.com/github/Jegovila/SSPIA1/blob/main/2%20Metaheur%C3%ADsticas%20con%20base%20en%20una%20soluci%C3%B3n/C%C3%B3digos/Metaheur%C3%ADsticas_con_base_en_una_soluci%C3%B3n.ipynb\" target=\"_parent\"><img src=\"https://colab.research.google.com/assets/colab-badge.svg\" alt=\"Open In Colab\"/></a>"
      ]
    },
    {
      "cell_type": "code",
      "execution_count": null,
      "metadata": {
        "id": "KlldACXVJugq"
      },
      "outputs": [],
      "source": [
        "!wget -nc https://raw.githubusercontent.com/Jegovila/SSPIA1/main/2%20Metaheur%C3%ADsticas%20con%20base%20en%20una%20soluci%C3%B3n/C%C3%B3digos/Plot_Surf.py\n",
        "!wget -nc https://raw.githubusercontent.com/Jegovila/SSPIA1/main/2%20Metaheur%C3%ADsticas%20con%20base%20en%20una%20soluci%C3%B3n/C%C3%B3digos/Plot_Contour.py\n",
        "\n",
        "import matplotlib.pyplot as plt\n",
        "import numpy as np\n",
        "from Plot_Surf import *\n",
        "from Plot_Contour import *\n",
        "from IPython import display"
      ]
    },
    {
      "cell_type": "markdown",
      "source": [
        "Parámetros"
      ],
      "metadata": {
        "id": "cZB3K2PJQZo3"
      }
    },
    {
      "cell_type": "code",
      "source": [
        "f = lambda x, y: (x-2)**2 + (y-2)**2\n",
        "\n",
        "xl = np.array([-5, -5])\n",
        "xu = np.array([5, 5])\n",
        "\n",
        "G = 500\n",
        "f_plot = np.zeros(G)\n",
        "mu, sigma = 0, 0.2 # ES\n"
      ],
      "metadata": {
        "id": "h7QEgrSJQekG"
      },
      "execution_count": 2,
      "outputs": []
    },
    {
      "cell_type": "markdown",
      "source": [
        "# Random Search"
      ],
      "metadata": {
        "id": "_jBqdNeKQibH"
      }
    },
    {
      "cell_type": "code",
      "source": [
        "x = np.array([4, 4])\n",
        "\n",
        "for i in range(G):\n",
        "    y = xl + (xu-xl) * np.random.random(2)\n",
        "\n",
        "    display.display(plt.gcf())\n",
        "    display.clear_output(wait=True)\n",
        "    plot_contour(f, x, y, xl, xu)\n",
        "\n",
        "    if f(y[0], y[1]) < f(x[0], x[1]):\n",
        "        x = y\n",
        "\n",
        "\n",
        "\n",
        "    f_plot[i] = f(x[0], x[1])\n",
        "\n",
        "plot_surf(f,x,xl,xu)\n",
        "print(\"Mínimo global en x=\", x[0], \" y=\", x[1], \" f(x,y)=\", f(x[0],x[1]))\n",
        "\n",
        "plt.plot(range(G), f_plot)\n",
        "plt.title(\"Convergencia\")"
      ],
      "metadata": {
        "id": "CWQcNQo4QmaW"
      },
      "execution_count": null,
      "outputs": []
    },
    {
      "cell_type": "markdown",
      "source": [
        "# ES"
      ],
      "metadata": {
        "id": "KlUPKdKHQxDQ"
      }
    },
    {
      "cell_type": "code",
      "source": [
        "x = xl + (xu-xl) * np.random.random(2)\n",
        "f_plot = np.zeros(G)\n",
        "\n",
        "for i in range(G):\n",
        "    r = np.random.normal(mu, sigma, 2)\n",
        "    y = x + r\n",
        "\n",
        "    if f(y[0], y[1]) < f(x[0], x[1]):\n",
        "        x = y\n",
        "\n",
        "    #display.display(plt.gcf())\n",
        "    #display.clear_output(wait=True)\n",
        "    #plot_contour(f, x, y, xl, xu)\n",
        "    f_plot[i] = f(x[0], x[1])\n",
        "\n",
        "plot_surf(f,x,xl,xu)\n",
        "print(\"Mínimo global en x=\", x[0], \" y=\", x[1], \" f(x,y)=\", f(x[0],x[1]))\n",
        "\n",
        "plt.plot(range(G), f_plot)\n",
        "plt.title(\"Convergencia\")"
      ],
      "metadata": {
        "id": "EfoabZ34Q7h-"
      },
      "execution_count": null,
      "outputs": []
    },
    {
      "cell_type": "markdown",
      "source": [
        "# Hill Climbing Random Mutation"
      ],
      "metadata": {
        "id": "rXUyPi9jRC3W"
      }
    },
    {
      "cell_type": "code",
      "source": [
        "x = xl + (xu-xl) * np.random.random(2)\n",
        "f_plot = np.zeros(G)\n",
        "\n",
        "for i in range(G):\n",
        "    y = x.copy()\n",
        "    j = np.random.randint(2)\n",
        "    y[j] = xl[j] + (xu[j] - xl[j]) * np.random.random()\n",
        "\n",
        "    if f(y[0], y[1]) < f(x[0], x[1]):\n",
        "        x = y\n",
        "\n",
        "    #display.display(plt.gcf())\n",
        "    #display.clear_output(wait=True)\n",
        "    #plot_contour(f, x, y, xl, xu)\n",
        "    f_plot[i] = f(x[0], x[1])\n",
        "\n",
        "plot_surf(f,x,xl,xu)\n",
        "print(\"Mínimo global en x=\", x[0], \" y=\", x[1], \" f(x,y)=\", f(x[0],x[1]))\n",
        "\n",
        "plt.plot(range(G), f_plot)\n",
        "plt.title(\"Convergencia\")"
      ],
      "metadata": {
        "id": "qZgAE7kTRFUO"
      },
      "execution_count": null,
      "outputs": []
    }
  ]
}