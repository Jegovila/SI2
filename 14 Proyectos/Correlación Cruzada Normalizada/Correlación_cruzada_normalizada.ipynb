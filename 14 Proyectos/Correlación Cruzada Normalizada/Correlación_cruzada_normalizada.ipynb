{
  "nbformat": 4,
  "nbformat_minor": 0,
  "metadata": {
    "colab": {
      "provenance": [],
      "authorship_tag": "ABX9TyP9cdWAsbG+xbSr5/XGH/MH",
      "include_colab_link": true
    },
    "kernelspec": {
      "name": "python3",
      "display_name": "Python 3"
    },
    "language_info": {
      "name": "python"
    }
  },
  "cells": [
    {
      "cell_type": "markdown",
      "metadata": {
        "id": "view-in-github",
        "colab_type": "text"
      },
      "source": [
        "<a href=\"https://colab.research.google.com/github/Jegovila/SSPIA1/blob/main/14%20Proyectos/Correlaci%C3%B3n%20Cruzada%20Normalizada/Correlaci%C3%B3n_cruzada_normalizada.ipynb\" target=\"_parent\"><img src=\"https://colab.research.google.com/assets/colab-badge.svg\" alt=\"Open In Colab\"/></a>"
      ]
    },
    {
      "cell_type": "code",
      "source": [
        "!wget -nc 'https://raw.githubusercontent.com/Jegovila/SSPIA1/main/14%20Proyectos/Correlaci%C3%B3n%20Cruzada%20Normalizada/Image_1.bmp'\n",
        "!wget -nc 'https://raw.githubusercontent.com/Jegovila/SSPIA1/main/14%20Proyectos/Correlaci%C3%B3n%20Cruzada%20Normalizada/Template.bmp'\n",
        "\n",
        "import numpy as np\n",
        "import cv2\n",
        "import matplotlib.pyplot as plt\n",
        "from IPython import display"
      ],
      "metadata": {
        "id": "q3Svs5_1fflW"
      },
      "execution_count": null,
      "outputs": []
    },
    {
      "cell_type": "markdown",
      "source": [
        "NCC"
      ],
      "metadata": {
        "id": "esOfprIHgGvG"
      }
    },
    {
      "cell_type": "code",
      "source": [
        "def NCC(img, temp, x, y):\n",
        "    H = temp.shape[0]\n",
        "    W = temp.shape[1]\n",
        "\n",
        "    sum_img = 0.0\n",
        "    sum_temp = 0.0\n",
        "    sum_2 = 0.0\n",
        "\n",
        "    for i in range(W):\n",
        "        for j in range(H):\n",
        "            sum_img = sum_img + float(img[int(y)+j, int(x)+i]) ** 2\n",
        "            sum_temp = sum_temp + float(temp[j, i]) ** 2\n",
        "            sum_2 = sum_2 + float(img[int(y)+j, int(x)+i]) * float(temp[j, i])\n",
        "\n",
        "    val = sum_2 / (np.sqrt(float(sum_img)) * np.sqrt(float(sum_temp)))\n",
        "\n",
        "    return val"
      ],
      "metadata": {
        "id": "zzSGXfGRgISP"
      },
      "execution_count": null,
      "outputs": []
    },
    {
      "cell_type": "markdown",
      "source": [
        "DE"
      ],
      "metadata": {
        "id": "kBHthSbA7bfp"
      }
    },
    {
      "cell_type": "code",
      "source": [
        "def DE(img, temp, animacion):\n",
        "    n_Gen = 50\n",
        "    n_Pop = 50\n",
        "    dim = 2\n",
        "\n",
        "    F = 0.6\n",
        "    Cr = 0.9\n",
        "\n",
        "    img_g = cv2.cvtColor(img, cv2.COLOR_BGR2GRAY)\n",
        "    temp_g = cv2.cvtColor(temp, cv2.COLOR_BGR2GRAY)\n",
        "\n",
        "    img_H = img_g.shape[0]\n",
        "    img_W = img_g.shape[1]\n",
        "    temp_H = temp_g.shape[0]\n",
        "    temp_W = temp_g.shape[1]\n",
        "\n",
        "    lb = np.array([1, 1])\n",
        "    ub = np.array([img_W-temp_W, img_H-temp_H])\n",
        "\n",
        "    x = np.zeros((dim, n_Pop))\n",
        "    fitness = -1 * np.ones(n_Pop)\n",
        "\n",
        "    for i in range(n_Pop):\n",
        "        x[0, i] = np.random.randint(lb[0], ub[0])\n",
        "        x[1, i] = np.random.randint(lb[1], ub[1])\n",
        "\n",
        "        fitness[i] = NCC(img_g, temp_g, int(x[0, i]), int(x[1, i]))\n",
        "\n",
        "    best_plot = np.zeros(n_Gen)\n",
        "\n",
        "    for n in range(n_Gen):\n",
        "        if animacion:\n",
        "            img_2 = cv2.cvtColor(img, cv2.COLOR_BGR2RGB)\n",
        "            plt.clf()\n",
        "            display.display(plt.gcf())\n",
        "            display.clear_output(wait=True)\n",
        "            plt.imshow(img_2)\n",
        "\n",
        "            for i in range(n_Pop):\n",
        "                plt.plot([x[0, i], x[0, i] + temp_W], [x[1, i], x[1, i]], color=(0,1,0), linewidth=3)\n",
        "                plt.plot([x[0, i], x[0, i]], [x[1, i], x[1, i] + temp_H], color=(0,1,0), linewidth=3)\n",
        "                plt.plot([x[0, i] + temp_W, x[0, i] + temp_W], [x[1, i], x[1, i] + temp_H], color=(0,1,0), linewidth=3)\n",
        "                plt.plot([x[0, i], x[0, i] + temp_W], [x[1, i] + temp_H, x[1, i] + temp_H], color=(0,1,0), linewidth=3)\n",
        "            plt.show(block=False)\n",
        "            plt.pause(.05)\n",
        "            #plt.show()\n",
        "\n",
        "        for i in range(n_Pop):\n",
        "            # Mutación\n",
        "\n",
        "\n",
        "            # Recombinación\n",
        "\n",
        "\n",
        "            # Selección\n",
        "\n",
        "\n",
        "        best_plot[n] = np.max(fitness)\n",
        "\n",
        "    ind = np.argmax(fitness)\n",
        "    p = x[:, ind]\n",
        "\n",
        "    plt.plot(best_plot)\n",
        "    plt.xlabel(\"Generación\")\n",
        "    plt.ylabel(\"Fitness\")\n",
        "    plt.show()\n",
        "\n",
        "    return p"
      ],
      "metadata": {
        "id": "42UIK2zw7aPH"
      },
      "execution_count": null,
      "outputs": []
    },
    {
      "cell_type": "markdown",
      "source": [
        "Algoritmo"
      ],
      "metadata": {
        "id": "0HJRtKq_7dtZ"
      }
    },
    {
      "cell_type": "code",
      "source": [
        "animacion = 1\n",
        "\n",
        "img = cv2.imread('Image_1.bmp')\n",
        "temp = cv2.imread('Template.bmp')\n",
        "\n",
        "p = DE(img, temp, animacion)\n",
        "\n",
        "img_H = img.shape[0]\n",
        "img_W = img.shape[1]\n",
        "temp_H = temp.shape[0]\n",
        "temp_W = temp.shape[1]\n",
        "\n",
        "xp = p[0]\n",
        "yp = p[1]\n",
        "\n",
        "img_2 = cv2.cvtColor(img, cv2.COLOR_BGR2RGB)\n",
        "plt.imshow(img_2)\n",
        "plt.plot([xp, xp+temp_W], [yp, yp], 'r', linewidth=4)\n",
        "plt.plot([xp, xp], [yp, yp+temp_H],'r', linewidth=4)\n",
        "plt.plot([xp+temp_W, xp+temp_W], [yp, yp+temp_H],'r', linewidth=4)\n",
        "plt.plot([xp, xp+temp_W], [yp+temp_H, yp+temp_H],'r', linewidth=4)\n",
        "plt.show()"
      ],
      "metadata": {
        "id": "10Vkplsz7etn"
      },
      "execution_count": null,
      "outputs": []
    }
  ]
}